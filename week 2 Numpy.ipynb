{
 "cells": [
  {
   "cell_type": "markdown",
   "id": "afe24599",
   "metadata": {},
   "source": [
    "# NumPy Module"
   ]
  },
  {
   "cell_type": "code",
   "execution_count": 3,
   "id": "ccb2f667",
   "metadata": {},
   "outputs": [],
   "source": [
    "import numpy as np\n",
    "import time\n",
    "import sys"
   ]
  },
  {
   "cell_type": "code",
   "execution_count": 2,
   "id": "58a3b812",
   "metadata": {},
   "outputs": [
    {
     "data": {
      "text/plain": [
       "array([1, 2, 3])"
      ]
     },
     "execution_count": 2,
     "metadata": {},
     "output_type": "execute_result"
    }
   ],
   "source": [
    "np.array([1,2,3])\n",
    "\n",
    "# its similar to a list - access the elements by index \n",
    "\n",
    "#then why numpy ?"
   ]
  },
  {
   "cell_type": "markdown",
   "id": "33da8f3a",
   "metadata": {},
   "source": [
    "less memory\n",
    "fast\n",
    "convinent\n"
   ]
  },
  {
   "cell_type": "code",
   "execution_count": 10,
   "id": "c3378db9",
   "metadata": {},
   "outputs": [
    {
     "name": "stdout",
     "output_type": "stream",
     "text": [
      "28000\n",
      "8000\n"
     ]
    }
   ],
   "source": [
    "l = range(1000)\n",
    "print(sys.getsizeof(5)*len(l))\n",
    "#28000 bytes\n",
    "\n",
    "array = np.arange(1000)\n",
    "print(array.size*array.itemsize)\n",
    "# 8000 bytes"
   ]
  },
  {
   "cell_type": "code",
   "execution_count": 13,
   "id": "6b6e8a19",
   "metadata": {},
   "outputs": [
    {
     "name": "stdout",
     "output_type": "stream",
     "text": [
      "python list this 60.91785430908203\n",
      "my numpy took this 2.8121471405029297\n"
     ]
    }
   ],
   "source": [
    "SIZE =100000\n",
    "# create a list\n",
    "l1 = range(SIZE) \n",
    "l2 = range(SIZE)\n",
    "# create an array\n",
    "a1 = np.arange(SIZE)\n",
    "a2 = np.arange(SIZE)\n",
    "\n",
    "# measure the time between the list and array processing\n",
    "\n",
    "# python list\n",
    "start = time.time()\n",
    "result  = [x+y for x, y in zip(l1,l2)]\n",
    "print('python list this',(time.time()-start)*1000)\n",
    "\n",
    "# numpy array\n",
    "start = time.time()\n",
    "result = a1 +a2 \n",
    "print('my numpy took this',(time.time()-start)*1000)\n",
    "\n",
    "# when processing millions of numbers numpy makes sense as the process tike is faster\n"
   ]
  },
  {
   "cell_type": "markdown",
   "id": "0d8880ac",
   "metadata": {},
   "source": [
    "#### Basic Operations "
   ]
  },
  {
   "cell_type": "markdown",
   "id": "79c0a44a",
   "metadata": {},
   "source": [
    "#### array data types"
   ]
  },
  {
   "cell_type": "code",
   "execution_count": 25,
   "id": "affb9780",
   "metadata": {},
   "outputs": [
    {
     "name": "stdout",
     "output_type": "stream",
     "text": [
      "1\n",
      "5\n"
     ]
    }
   ],
   "source": [
    "a = np.array([5,6,9])\n",
    "print(a.ndim)\n",
    "print(a[0])"
   ]
  },
  {
   "cell_type": "code",
   "execution_count": 164,
   "id": "e3bf7f94",
   "metadata": {},
   "outputs": [
    {
     "name": "stdout",
     "output_type": "stream",
     "text": [
      "2\n"
     ]
    },
    {
     "data": {
      "text/plain": [
       "8"
      ]
     },
     "execution_count": 164,
     "metadata": {},
     "output_type": "execute_result"
    }
   ],
   "source": [
    "a= np.array([[1,2],[2,3],[3,4]])\n",
    "print(a.ndim) # print dimensions of the array\n",
    "\n",
    "a.itemsize # byte size of each elemets - int elements each size is 4 bytes \n",
    "\n",
    "# float size -"
   ]
  },
  {
   "cell_type": "code",
   "execution_count": 29,
   "id": "4b7f496b",
   "metadata": {},
   "outputs": [
    {
     "data": {
      "text/plain": [
       "dtype('int64')"
      ]
     },
     "execution_count": 29,
     "metadata": {},
     "output_type": "execute_result"
    }
   ],
   "source": [
    "a.dtype # array dta atype"
   ]
  },
  {
   "cell_type": "code",
   "execution_count": 33,
   "id": "d55a4eca",
   "metadata": {},
   "outputs": [
    {
     "name": "stdout",
     "output_type": "stream",
     "text": [
      "float64\n",
      "[[1. 2.]\n",
      " [2. 3.]\n",
      " [3. 4.]]\n"
     ]
    }
   ],
   "source": [
    "a= np.array([[1,2],[2,3],[3,4]],dtype = np.float64)\n",
    "print(a.dtype)\n",
    "print(a)"
   ]
  },
  {
   "cell_type": "code",
   "execution_count": 36,
   "id": "05372d8e",
   "metadata": {},
   "outputs": [
    {
     "name": "stdout",
     "output_type": "stream",
     "text": [
      "6\n",
      "(3, 2)\n"
     ]
    }
   ],
   "source": [
    "# size \n",
    "\n",
    "print(a.size) # num of elements in the array\n",
    "\n",
    "print(a.shape) # rows and col"
   ]
  },
  {
   "cell_type": "code",
   "execution_count": 38,
   "id": "9c9991cc",
   "metadata": {},
   "outputs": [
    {
     "name": "stdout",
     "output_type": "stream",
     "text": [
      "[[1.+0.j 2.+0.j]\n",
      " [2.+0.j 3.+0.j]\n",
      " [3.+0.j 4.+0.j]]\n"
     ]
    }
   ],
   "source": [
    "#initialize array with specific data type\n",
    "\n",
    "a= np.array([[1,2],[2,3],[3,4]],dtype = complex)\n",
    "print(a)"
   ]
  },
  {
   "cell_type": "markdown",
   "id": "fdce8769",
   "metadata": {},
   "source": [
    "# Initializing Different Types of Arrays"
   ]
  },
  {
   "cell_type": "code",
   "execution_count": 42,
   "id": "a0b1b0ae",
   "metadata": {},
   "outputs": [
    {
     "name": "stdout",
     "output_type": "stream",
     "text": [
      "[[0. 0. 0. 0.]\n",
      " [0. 0. 0. 0.]\n",
      " [0. 0. 0. 0.]]\n",
      "[[1. 1. 1. 1.]\n",
      " [1. 1. 1. 1.]\n",
      " [1. 1. 1. 1.]]\n",
      "[[0. 0.]\n",
      " [0. 0.]]\n"
     ]
    }
   ],
   "source": [
    "# initialize arrat with placeholder number or zeros\n",
    "print(np.zeros((3, 4)))\n",
    "print(np.ones((3,4)))\n",
    "print(np.zeros((2, 2)))\n"
   ]
  },
  {
   "cell_type": "code",
   "execution_count": 167,
   "id": "527aa310",
   "metadata": {},
   "outputs": [
    {
     "data": {
      "text/plain": [
       "array([[[1, 1, 1],\n",
       "        [1, 1, 1]],\n",
       "\n",
       "       [[1, 1, 1],\n",
       "        [1, 1, 1]],\n",
       "\n",
       "       [[1, 1, 1],\n",
       "        [1, 1, 1]],\n",
       "\n",
       "       [[1, 1, 1],\n",
       "        [1, 1, 1]]], dtype=int32)"
      ]
     },
     "execution_count": 167,
     "metadata": {},
     "output_type": "execute_result"
    }
   ],
   "source": [
    "# All 1s matrix\n",
    "np.ones((4,2,3), dtype='int32') # 4 arrays fo 2X3 size"
   ]
  },
  {
   "cell_type": "code",
   "execution_count": 168,
   "id": "041d32ae",
   "metadata": {},
   "outputs": [
    {
     "data": {
      "text/plain": [
       "array([[99, 99],\n",
       "       [99, 99]])"
      ]
     },
     "execution_count": 168,
     "metadata": {},
     "output_type": "execute_result"
    }
   ],
   "source": [
    "# Any other number\n",
    "np.full((2,2), 99)"
   ]
  },
  {
   "cell_type": "code",
   "execution_count": 169,
   "id": "76e7d522",
   "metadata": {},
   "outputs": [
    {
     "data": {
      "text/plain": [
       "array([[4, 4],\n",
       "       [4, 4],\n",
       "       [4, 4]])"
      ]
     },
     "execution_count": 169,
     "metadata": {},
     "output_type": "execute_result"
    }
   ],
   "source": [
    "# Any other number (full_like)\n",
    "np.full_like(a, 4) # takes size of a and creates an array of the same size with specified number"
   ]
  },
  {
   "cell_type": "code",
   "execution_count": 170,
   "id": "c66720bc",
   "metadata": {},
   "outputs": [
    {
     "data": {
      "text/plain": [
       "array([[0.50313671, 0.42335728],\n",
       "       [0.42319215, 0.56640316],\n",
       "       [0.69914178, 0.0391944 ],\n",
       "       [0.11532133, 0.84950968]])"
      ]
     },
     "execution_count": 170,
     "metadata": {},
     "output_type": "execute_result"
    }
   ],
   "source": [
    "# Random decimal numbers\n",
    "np.random.rand(4,2) # creates a random decimal bwtween 0 and 1 in the size 4X2"
   ]
  },
  {
   "cell_type": "code",
   "execution_count": 171,
   "id": "202a5f10",
   "metadata": {},
   "outputs": [
    {
     "data": {
      "text/plain": [
       "array([[ 5, -2, -2],\n",
       "       [-3,  3,  4],\n",
       "       [ 3,  1, -3]])"
      ]
     },
     "execution_count": 171,
     "metadata": {},
     "output_type": "execute_result"
    }
   ],
   "source": [
    "# Random Integer values\n",
    "np.random.randint(-4,8, size=(3,3)) # creates an array with random integers vetween -4 and 8 in th size 3X3"
   ]
  },
  {
   "cell_type": "code",
   "execution_count": 172,
   "id": "774a46a0",
   "metadata": {},
   "outputs": [
    {
     "data": {
      "text/plain": [
       "array([[1., 0., 0., 0., 0.],\n",
       "       [0., 1., 0., 0., 0.],\n",
       "       [0., 0., 1., 0., 0.],\n",
       "       [0., 0., 0., 1., 0.],\n",
       "       [0., 0., 0., 0., 1.]])"
      ]
     },
     "execution_count": 172,
     "metadata": {},
     "output_type": "execute_result"
    }
   ],
   "source": [
    "# The identity matrix\n",
    "np.identity(5)\n"
   ]
  },
  {
   "cell_type": "code",
   "execution_count": 174,
   "id": "5fd42318",
   "metadata": {},
   "outputs": [
    {
     "name": "stdout",
     "output_type": "stream",
     "text": [
      "[[1 2 3]\n",
      " [1 2 3]\n",
      " [1 2 3]]\n"
     ]
    }
   ],
   "source": [
    "# Repeat an array\n",
    "arr = np.array([[1,2,3]])\n",
    "r1 = np.repeat(arr,3, axis=0) # if there is an array with one row and you wnat the same elements in next 3 rows\n",
    "print(r1)"
   ]
  },
  {
   "cell_type": "code",
   "execution_count": 176,
   "id": "3e3ad698",
   "metadata": {},
   "outputs": [
    {
     "name": "stdout",
     "output_type": "stream",
     "text": [
      "[[1. 1. 1. 1. 1.]\n",
      " [1. 1. 1. 1. 1.]\n",
      " [1. 1. 1. 1. 1.]\n",
      " [1. 1. 1. 1. 1.]\n",
      " [1. 1. 1. 1. 1.]]\n",
      "[[0. 0. 0.]\n",
      " [0. 9. 0.]\n",
      " [0. 0. 0.]]\n",
      "[[1. 1. 1. 1. 1.]\n",
      " [1. 0. 0. 0. 1.]\n",
      " [1. 0. 9. 0. 1.]\n",
      " [1. 0. 0. 0. 1.]\n",
      " [1. 1. 1. 1. 1.]]\n"
     ]
    }
   ],
   "source": [
    "output = np.ones((5,5))\n",
    "print(output)\n",
    "\n",
    "z = np.zeros((3,3))\n",
    "z[1,1] = 9 # create a zero array and assign the 1st roe 1st colum elemet to 9\n",
    "print(z)\n",
    "\n",
    "output[1:-1,1:-1] = z # expand the z matrix \n",
    "print(output)\n"
   ]
  },
  {
   "cell_type": "code",
   "execution_count": 178,
   "id": "77a32930",
   "metadata": {},
   "outputs": [
    {
     "name": "stdout",
     "output_type": "stream",
     "text": [
      "[1 2 3]\n"
     ]
    },
    {
     "data": {
      "text/plain": [
       "array([100,   2,   3])"
      ]
     },
     "execution_count": 178,
     "metadata": {},
     "output_type": "execute_result"
    }
   ],
   "source": [
    "# Be careful when copying arrays!!! \n",
    "a = np.array([1,2,3])\n",
    "b = a.copy()\n",
    "b[0] = 100\n",
    "\n",
    "print(a)\n",
    "b\n"
   ]
  },
  {
   "cell_type": "markdown",
   "id": "c5f1b031",
   "metadata": {},
   "source": [
    "#### range"
   ]
  },
  {
   "cell_type": "code",
   "execution_count": 60,
   "id": "817505a1",
   "metadata": {},
   "outputs": [
    {
     "name": "stdout",
     "output_type": "stream",
     "text": [
      "range(0, 5)\n",
      "4\n",
      "[1 2 3 4]\n",
      "[1 3 5 7 9]\n",
      "[1.         1.44444444 1.88888889 2.33333333 2.77777778 3.22222222\n",
      " 3.66666667 4.11111111 4.55555556 5.        ]\n",
      "[1. 2. 3. 4. 5.]\n",
      "[[1 2]\n",
      " [2 3]\n",
      " [3 4]]\n",
      "(3, 2)\n",
      "[[1 2 2]\n",
      " [3 3 4]]\n",
      "[[1]\n",
      " [2]\n",
      " [2]\n",
      " [3]\n",
      " [3]\n",
      " [4]]\n",
      "[1 2 2 3 3 4]\n",
      "[[1 2]\n",
      " [2 3]\n",
      " [3 4]]\n"
     ]
    }
   ],
   "source": [
    "l = range(5)\n",
    "print(l) # in python , to create a list of number 0 to 5\n",
    "print(l[4])\n",
    "\n",
    "# can be done in numpy as well \n",
    "print(np.arange(1,5)) # creates an array from 1 to 4 \n",
    "print(np.arange(1,10,2)) # 1-10 number with a step of 2\n",
    "print(np.linspace(1,5,10)) # generate 10 numbers between 1 and 5 which are linearly spaced\n",
    "print(np.linspace(1,5,5))\n",
    "\n",
    "# reshape\n",
    "a= np.array([[1,2],[2,3],[3,4]])\n",
    "print(a)\n",
    "print(a.shape)\n",
    "print(a.reshape(2,3))\n",
    "print(a.reshape(6,1)) # \n",
    "print(a.ravel()) # can also be used to flatten the data like one row\n",
    "\n",
    "print(a) # all these methods will not alter the original array , so assign a variable if you like to use them later\n"
   ]
  },
  {
   "cell_type": "markdown",
   "id": "9fc1702b",
   "metadata": {},
   "source": [
    "#### mathematical elements"
   ]
  },
  {
   "cell_type": "markdown",
   "id": "508bbae9",
   "metadata": {},
   "source": [
    "#### statistics"
   ]
  },
  {
   "cell_type": "code",
   "execution_count": 68,
   "id": "5465c0aa",
   "metadata": {},
   "outputs": [
    {
     "name": "stdout",
     "output_type": "stream",
     "text": [
      "min 1\n",
      "max 4\n",
      "sum 15\n",
      "array [[1 2]\n",
      " [2 3]\n",
      " [3 4]]\n",
      "col sum [6 9]\n",
      "row sum [3 5 7]\n",
      "square root [[1.         1.41421356]\n",
      " [1.41421356 1.73205081]\n",
      " [1.73205081 2.        ]]\n",
      "standard deviation 0.9574271077563381\n"
     ]
    }
   ],
   "source": [
    "a= np.array([[1,2],[2,3],[3,4]])\n",
    "\n",
    "print('min',a.min())\n",
    "print('max',a.max())\n",
    "print('sum',a.sum())\n",
    "\n",
    "# axis 0 - col , axis 1 - row\n",
    "\n",
    "print('array',a)\n",
    "print('col sum',a.sum(axis=0))\n",
    "print('row sum',a.sum(axis=1))\n",
    "\n",
    "print('square root',np.sqrt(a))\n",
    "print('standard deviation',np.std(a)) # std deviation of all the numbers"
   ]
  },
  {
   "cell_type": "code",
   "execution_count": 70,
   "id": "e485283d",
   "metadata": {},
   "outputs": [
    {
     "name": "stdout",
     "output_type": "stream",
     "text": [
      "sum [5 7 9]\n",
      "diff [3 3 3]\n",
      "multi [ 4 10 18]\n",
      "division [0.25 0.4  0.5 ]\n",
      "matrix prduct 32\n"
     ]
    }
   ],
   "source": [
    "# numpy arrays\n",
    "\n",
    "a1 = np.array([1,2,3])\n",
    "a2 =np.array([4,5,6])\n",
    "\n",
    "print('sum',a1+a2)\n",
    "print('diff',a2-a1)\n",
    "print('multi',a1*a2)\n",
    "print('division',a1/a2)\n",
    "print('matrix prduct',a1.dot(a2))"
   ]
  },
  {
   "cell_type": "markdown",
   "id": "fe3b4452",
   "metadata": {},
   "source": [
    "#### Indexing slicing "
   ]
  },
  {
   "cell_type": "code",
   "execution_count": 76,
   "id": "26da3e84",
   "metadata": {},
   "outputs": [
    {
     "name": "stdout",
     "output_type": "stream",
     "text": [
      "8\n"
     ]
    }
   ],
   "source": [
    "# regular array\n",
    "n =[6,7,8]\n",
    "n[0:2] # prints 0, 1 elements\n",
    "print(n[-1])"
   ]
  },
  {
   "cell_type": "code",
   "execution_count": 84,
   "id": "201b5e92",
   "metadata": {},
   "outputs": [
    {
     "name": "stdout",
     "output_type": "stream",
     "text": [
      "[6 7]\n",
      "8\n",
      "[8 7 6]\n"
     ]
    }
   ],
   "source": [
    "# numpy array\n",
    "a = np.array([6,7,8])\n",
    "print(a[0:2])\n",
    "print(a[-1]) # last num print in reverse\n",
    "print(a[::-1])"
   ]
  },
  {
   "cell_type": "code",
   "execution_count": 100,
   "id": "02a1c414",
   "metadata": {},
   "outputs": [
    {
     "name": "stdout",
     "output_type": "stream",
     "text": [
      "[[1 2 3]\n",
      " [4 5 6]\n",
      " [6 7 8]]\n",
      "6\n",
      "[3 6]\n",
      "[[1 2]\n",
      " [4 5]\n",
      " [6 7]]\n",
      "[6 7 8]\n",
      "[6 7]\n",
      "[[2 3]\n",
      " [5 6]\n",
      " [7 8]]\n"
     ]
    }
   ],
   "source": [
    "# multidimensional array\n",
    "a = np.array([[1,2,3],[4,5,6],[6,7,8]])\n",
    "print(a)\n",
    "print(a[1,2]) # 1st row , 2nd column element - 0,1,2  0,1,2 \n",
    "\n",
    "print(a[0:2,2]) # goes 0 to 1st row - then prints 2nd element in these 2 rows\n",
    "# print(a[:2,2]) - same as above\n",
    "print(a[0:3,0:2])# goes 0 to 2nd row - then prints 1st and 2nd element in these 2 rows\n",
    "\n",
    "print(a[-1]) # last row \n",
    "\n",
    "print(a[-1,0:2]) # last row 1st and 2nd elements \n",
    "\n",
    "print(a[:,1:3]) # : - indicates all rows , 1 to 2 indiates 0, 1 , 2 columns \n",
    "\n"
   ]
  },
  {
   "cell_type": "markdown",
   "id": "bbe14305",
   "metadata": {},
   "source": [
    "#### Iterating through arrays"
   ]
  },
  {
   "cell_type": "code",
   "execution_count": 103,
   "id": "84fbe6e6",
   "metadata": {},
   "outputs": [
    {
     "name": "stdout",
     "output_type": "stream",
     "text": [
      "[1 2 3]\n",
      "[4 5 6]\n",
      "[6 7 8]\n"
     ]
    }
   ],
   "source": [
    "a = np.array([[1,2,3],[4,5,6],[6,7,8]])\n",
    "\n",
    "# iterates through every element in the array\n",
    "for row in a:\n",
    "    print(row)"
   ]
  },
  {
   "cell_type": "code",
   "execution_count": 106,
   "id": "ff1d7202",
   "metadata": {},
   "outputs": [
    {
     "name": "stdout",
     "output_type": "stream",
     "text": [
      "1\n",
      "2\n",
      "3\n",
      "4\n",
      "5\n",
      "6\n",
      "6\n",
      "7\n",
      "8\n"
     ]
    }
   ],
   "source": [
    "# flatten the list and print every number\n",
    "for cell in a.flat:\n",
    "        print(cell)\n",
    "        \n",
    "#a.flat  this just flattens but does not print hence use for \n",
    "#loop to print ot access elements one by one from the flattened array\n"
   ]
  },
  {
   "cell_type": "code",
   "execution_count": 119,
   "id": "3ad54329",
   "metadata": {},
   "outputs": [
    {
     "name": "stdout",
     "output_type": "stream",
     "text": [
      "[[0 1 2 3 4 5]]\n",
      "[[0 1 2]\n",
      " [3 4 5]]\n"
     ]
    }
   ],
   "source": [
    "# reshape into any shape \n",
    "a= np.arange(6).reshape(1,6)\n",
    "print(a)\n",
    "a= np.arange(6).reshape(2,3)\n",
    "print(a)"
   ]
  },
  {
   "cell_type": "markdown",
   "id": "4a50f3e8",
   "metadata": {},
   "source": [
    "#### stacking together  tow arrays"
   ]
  },
  {
   "cell_type": "code",
   "execution_count": 122,
   "id": "5ab4f010",
   "metadata": {},
   "outputs": [
    {
     "name": "stdout",
     "output_type": "stream",
     "text": [
      "[[0 1 2]\n",
      " [3 4 5]]\n",
      "[[ 6  7  8]\n",
      " [ 9 10 11]]\n"
     ]
    }
   ],
   "source": [
    "a= np.arange(6).reshape(2,3) # numbers 0 -6 \n",
    "print(a)\n",
    "b= np.arange(6,12).reshape(2,3) # numbers 6 -12 \n",
    "print(b)"
   ]
  },
  {
   "cell_type": "code",
   "execution_count": 125,
   "id": "4d52c5ff",
   "metadata": {},
   "outputs": [
    {
     "name": "stdout",
     "output_type": "stream",
     "text": [
      "[[ 0  1  2]\n",
      " [ 3  4  5]\n",
      " [ 6  7  8]\n",
      " [ 9 10 11]]\n"
     ]
    }
   ],
   "source": [
    "print(np.vstack((a,b)))# stacks one array onto the next array specified in the order "
   ]
  },
  {
   "cell_type": "code",
   "execution_count": 126,
   "id": "5f243e58",
   "metadata": {},
   "outputs": [
    {
     "name": "stdout",
     "output_type": "stream",
     "text": [
      "[[ 0  1  2  6  7  8]\n",
      " [ 3  4  5  9 10 11]]\n"
     ]
    }
   ],
   "source": [
    "print(np.hstack((a,b)))"
   ]
  },
  {
   "cell_type": "code",
   "execution_count": 128,
   "id": "253aa329",
   "metadata": {},
   "outputs": [
    {
     "name": "stdout",
     "output_type": "stream",
     "text": [
      "[[ 0  1  2  3  4  5  6  7  8  9 10 11 12 13 14]\n",
      " [15 16 17 18 19 20 21 22 23 24 25 26 27 28 29]]\n"
     ]
    }
   ],
   "source": [
    "a= np.arange(30).reshape(2,15)  \n",
    "print(a)"
   ]
  },
  {
   "cell_type": "code",
   "execution_count": 129,
   "id": "419d669d",
   "metadata": {},
   "outputs": [
    {
     "data": {
      "text/plain": [
       "[array([[ 0,  1,  2,  3,  4],\n",
       "        [15, 16, 17, 18, 19]]),\n",
       " array([[ 5,  6,  7,  8,  9],\n",
       "        [20, 21, 22, 23, 24]]),\n",
       " array([[10, 11, 12, 13, 14],\n",
       "        [25, 26, 27, 28, 29]])]"
      ]
     },
     "execution_count": 129,
     "metadata": {},
     "output_type": "execute_result"
    }
   ],
   "source": [
    "np.hsplit(a,3) - split into 3 blocks of 3 arrays "
   ]
  },
  {
   "cell_type": "code",
   "execution_count": 130,
   "id": "7c1981d9",
   "metadata": {},
   "outputs": [
    {
     "data": {
      "text/plain": [
       "array([[ 0,  1,  2,  3,  4],\n",
       "       [15, 16, 17, 18, 19]])"
      ]
     },
     "execution_count": 130,
     "metadata": {},
     "output_type": "execute_result"
    }
   ],
   "source": [
    "result =np.hsplit(a,3) # divide into 3 equal sized arrays\n",
    "result[0]"
   ]
  },
  {
   "cell_type": "code",
   "execution_count": 132,
   "id": "1bb51c9c",
   "metadata": {},
   "outputs": [
    {
     "data": {
      "text/plain": [
       "array([[ 0,  1,  2,  3,  4,  5,  6,  7,  8,  9, 10, 11, 12, 13, 14]])"
      ]
     },
     "execution_count": 132,
     "metadata": {},
     "output_type": "execute_result"
    }
   ],
   "source": [
    "result =np.vsplit(a,2) # split into 2 arrays \n",
    "result[0]"
   ]
  },
  {
   "cell_type": "code",
   "execution_count": null,
   "id": "c6a6eb2d",
   "metadata": {},
   "outputs": [],
   "source": []
  },
  {
   "cell_type": "markdown",
   "id": "c98bbe77",
   "metadata": {},
   "source": [
    "#### Indexing with boolean arrays  Boolean Masking"
   ]
  },
  {
   "cell_type": "code",
   "execution_count": 134,
   "id": "c91edbdd",
   "metadata": {},
   "outputs": [
    {
     "name": "stdout",
     "output_type": "stream",
     "text": [
      "[[ 0  1  2  3]\n",
      " [ 4  5  6  7]\n",
      " [ 8  9 10 11]]\n"
     ]
    }
   ],
   "source": [
    "a= np.arange(12).reshape(3,4)\n",
    "print(a)"
   ]
  },
  {
   "cell_type": "code",
   "execution_count": 136,
   "id": "a25e6ca7",
   "metadata": {},
   "outputs": [
    {
     "name": "stdout",
     "output_type": "stream",
     "text": [
      "[[False False False False]\n",
      " [False  True  True  True]\n",
      " [ True  True  True  True]]\n"
     ]
    }
   ],
   "source": [
    "b = a>4 # creates a boolean array with true false\n",
    "print(b) "
   ]
  },
  {
   "cell_type": "code",
   "execution_count": 137,
   "id": "dfe8c429",
   "metadata": {},
   "outputs": [
    {
     "data": {
      "text/plain": [
       "array([ 5,  6,  7,  8,  9, 10, 11])"
      ]
     },
     "execution_count": 137,
     "metadata": {},
     "output_type": "execute_result"
    }
   ],
   "source": [
    "a[b] - returns all the elemets in a >4"
   ]
  },
  {
   "cell_type": "code",
   "execution_count": 139,
   "id": "814002a9",
   "metadata": {},
   "outputs": [
    {
     "data": {
      "text/plain": [
       "array([[ 0,  1,  2,  3],\n",
       "       [ 4, -1, -1, -1],\n",
       "       [-1, -1, -1, -1]])"
      ]
     },
     "execution_count": 139,
     "metadata": {},
     "output_type": "execute_result"
    }
   ],
   "source": [
    "a[b]=-1 # sets all the values where b = true to -1 \n",
    "# b can be generated using any condition\n",
    "a"
   ]
  },
  {
   "cell_type": "markdown",
   "id": "7a1635ac",
   "metadata": {},
   "source": [
    "# iterate numpy arrays"
   ]
  },
  {
   "cell_type": "code",
   "execution_count": 141,
   "id": "a4bd262a",
   "metadata": {},
   "outputs": [
    {
     "data": {
      "text/plain": [
       "array([[ 0,  1,  2,  3],\n",
       "       [ 4,  5,  6,  7],\n",
       "       [ 8,  9, 10, 11]])"
      ]
     },
     "execution_count": 141,
     "metadata": {},
     "output_type": "execute_result"
    }
   ],
   "source": [
    "a =np.arange(12).reshape(3,4)\n",
    "a"
   ]
  },
  {
   "cell_type": "code",
   "execution_count": 145,
   "id": "15c4716b",
   "metadata": {},
   "outputs": [
    {
     "name": "stdout",
     "output_type": "stream",
     "text": [
      "0\n",
      "1\n",
      "2\n",
      "3\n",
      "4\n",
      "5\n",
      "6\n",
      "7\n",
      "8\n",
      "9\n",
      "10\n",
      "11\n"
     ]
    }
   ],
   "source": [
    "for row in a:\n",
    "    for cell in row:\n",
    "        print(cell)\n",
    "    #print(row)"
   ]
  },
  {
   "cell_type": "code",
   "execution_count": 144,
   "id": "760d11e2",
   "metadata": {},
   "outputs": [
    {
     "name": "stdout",
     "output_type": "stream",
     "text": [
      "0\n",
      "1\n",
      "2\n",
      "3\n",
      "4\n",
      "5\n",
      "6\n",
      "7\n",
      "8\n",
      "9\n",
      "10\n",
      "11\n"
     ]
    }
   ],
   "source": [
    "# faltten this array into list\n",
    "for cell in a.flatten():\n",
    "    print(cell)\n"
   ]
  },
  {
   "cell_type": "code",
   "execution_count": null,
   "id": "faed61d6",
   "metadata": {},
   "outputs": [],
   "source": [
    "# nd iter"
   ]
  },
  {
   "cell_type": "code",
   "execution_count": 149,
   "id": "856ab71b",
   "metadata": {},
   "outputs": [
    {
     "name": "stdout",
     "output_type": "stream",
     "text": [
      "0\n",
      "1\n",
      "2\n",
      "3\n",
      "4\n",
      "5\n",
      "6\n",
      "7\n",
      "8\n",
      "9\n",
      "10\n",
      "11\n"
     ]
    }
   ],
   "source": [
    "for x in np.nditer(a,order='C'): # prints elements row by row\n",
    "    print(x)"
   ]
  },
  {
   "cell_type": "code",
   "execution_count": 150,
   "id": "eb203ed2",
   "metadata": {},
   "outputs": [
    {
     "name": "stdout",
     "output_type": "stream",
     "text": [
      "0\n",
      "4\n",
      "8\n",
      "1\n",
      "5\n",
      "9\n",
      "2\n",
      "6\n",
      "10\n",
      "3\n",
      "7\n",
      "11\n"
     ]
    }
   ],
   "source": [
    "for x in np.nditer(a,order='F'): # prints elements column by column \n",
    "    print(x)"
   ]
  },
  {
   "cell_type": "code",
   "execution_count": 153,
   "id": "1df9f850",
   "metadata": {},
   "outputs": [
    {
     "name": "stdout",
     "output_type": "stream",
     "text": [
      "[0 4 8]\n",
      "[1 5 9]\n",
      "[ 2  6 10]\n",
      "[ 3  7 11]\n"
     ]
    }
   ],
   "source": [
    "for x in np.nditer(a,order='F',flags=['external_loop']): # prints entire column on each iteration\n",
    "    print(x)"
   ]
  },
  {
   "cell_type": "code",
   "execution_count": 159,
   "id": "24cd9217",
   "metadata": {},
   "outputs": [
    {
     "name": "stdout",
     "output_type": "stream",
     "text": [
      "[[  0   1   4   9]\n",
      " [ 16  25  36  49]\n",
      " [ 64  81 100 121]]\n"
     ]
    }
   ],
   "source": [
    "a =np.arange(12).reshape(3,4)\n",
    "\n",
    "# iterate through the elements and modify along\n",
    "for x in np.nditer(a,op_flags=['readwrite']): # prints entire column on each iteration\n",
    "   x[...]= x*x\n",
    "\n",
    "print(a)\n"
   ]
  },
  {
   "cell_type": "code",
   "execution_count": 163,
   "id": "bdaee585",
   "metadata": {},
   "outputs": [
    {
     "name": "stdout",
     "output_type": "stream",
     "text": [
      "[[ 0  1  2  3]\n",
      " [ 4  5  6  7]\n",
      " [ 8  9 10 11]]\n",
      "[[ 3]\n",
      " [ 7]\n",
      " [11]]\n",
      "0 3\n",
      "1 3\n",
      "2 3\n",
      "3 3\n",
      "4 7\n",
      "5 7\n",
      "6 7\n",
      "7 7\n",
      "8 11\n",
      "9 11\n",
      "10 11\n",
      "11 11\n"
     ]
    }
   ],
   "source": [
    "#iterate through 2 arrays same time\n",
    "# shape of the arrays should be same or the shape of one of the arrays be same \n",
    "a =np.arange(12).reshape(3,4)\n",
    "b =np.arange(3,15,4).reshape(3,1)\n",
    "\n",
    "print(a)\n",
    "print(b)\n",
    "\n",
    "for x, y in np.nditer([a,b]):\n",
    "    print(x,y)"
   ]
  },
  {
   "cell_type": "code",
   "execution_count": 162,
   "id": "eeb3ab7c",
   "metadata": {},
   "outputs": [
    {
     "name": "stdout",
     "output_type": "stream",
     "text": [
      "0 3\n",
      "1 3\n",
      "2 3\n",
      "3 3\n",
      "4 7\n",
      "5 7\n",
      "6 7\n",
      "7 7\n",
      "8 11\n",
      "9 11\n",
      "10 11\n",
      "11 11\n"
     ]
    }
   ],
   "source": []
  },
  {
   "cell_type": "code",
   "execution_count": null,
   "id": "8ac56cbc",
   "metadata": {},
   "outputs": [],
   "source": []
  }
 ],
 "metadata": {
  "kernelspec": {
   "display_name": "Python 3 (ipykernel)",
   "language": "python",
   "name": "python3"
  },
  "language_info": {
   "codemirror_mode": {
    "name": "ipython",
    "version": 3
   },
   "file_extension": ".py",
   "mimetype": "text/x-python",
   "name": "python",
   "nbconvert_exporter": "python",
   "pygments_lexer": "ipython3",
   "version": "3.9.12"
  }
 },
 "nbformat": 4,
 "nbformat_minor": 5
}
