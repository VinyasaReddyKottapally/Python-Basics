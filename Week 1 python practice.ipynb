{
 "cells": [
  {
   "cell_type": "code",
   "execution_count": 21,
   "id": "3be642c9",
   "metadata": {},
   "outputs": [
    {
     "name": "stdout",
     "output_type": "stream",
     "text": [
      "100\n",
      "20\n",
      "expenses =  100 20\n",
      "expenses1 =  100 and expenses2 = 20\n",
      "The rent is :100\n",
      "item2  is gas =20\n",
      "The gas expense is: 20\n",
      "sum of expenses =  120\n",
      "The total rent is: 100 \n",
      " and the gas expense is: 20\n"
     ]
    }
   ],
   "source": [
    "# Variables  and print statement\n",
    "\n",
    "rent = 100\n",
    "print(rent)\n",
    "\n",
    "gas = 20\n",
    "print(gas)\n",
    "\n",
    "item1 = rent\n",
    "item2 = gas\n",
    "print('expenses = ',item1, item2)\n",
    "print('expenses1 = ', item1 , 'and expenses2 =', item2)\n",
    "print(f'The rent is :{rent}') # print using formatted string\n",
    "print(f'item2  is gas ={gas}')\n",
    "print(\"The gas expense is:\", gas)\n",
    "print('sum of expenses = ',rent+gas)\n",
    "print(\"The total rent is: \" + str(rent) + \" \\n and the gas expense is: \" + str(gas)) # print in next line\n",
    "\n"
   ]
  },
  {
   "cell_type": "code",
   "execution_count": 48,
   "id": "cb1175e4",
   "metadata": {},
   "outputs": [
    {
     "name": "stdout",
     "output_type": "stream",
     "text": [
      "8\n",
      "2\n",
      "6\n",
      "2.0\n",
      "total expenses = 120\n",
      "time = 6.7272727272727275\n",
      "time = 6.73\n",
      "time = 10.0\n",
      "400.0\n"
     ]
    }
   ],
   "source": [
    "# Numbers \n",
    "\n",
    "\n",
    "\n",
    "print(3+5)\n",
    "print(5-3)\n",
    "print(3*2)\n",
    "print(6/3)\n",
    "6%3\n",
    "3**2\n",
    "\n",
    "total_expenses = rent + gas\n",
    "print ('total expenses =', total_expenses)\n",
    "\n",
    "dist = 444\n",
    "mph = 66\n",
    "\n",
    "time = dist/mph\n",
    "\n",
    "print ('time =', time)\n",
    "print ('time =', round(time,2)) # round to decimal points\n",
    "\n",
    "print ('time =', round(time,-1)) # rounding to nearest 10\n",
    "\n",
    "gas2 = 385.333\n",
    "print (round(gas2,-2))# rounding to nearest 100\n",
    "\n"
   ]
  },
  {
   "cell_type": "code",
   "execution_count": 54,
   "id": "34c69770",
   "metadata": {},
   "outputs": [
    {
     "name": "stdout",
     "output_type": "stream",
     "text": [
      "ceil 386\n",
      "floor 385\n",
      "trunc 385\n"
     ]
    }
   ],
   "source": [
    "import math\n",
    "gas2 = 385.34567\n",
    "print('ceil' , math.ceil(gas2)) # ceil\n",
    "\n",
    "print('floor' , math.floor(gas2)) # floor\n",
    "\n",
    "print('trunc', math.trunc(gas2)) # truncate decimnals , without rounding off $ same as floor"
   ]
  },
  {
   "cell_type": "code",
   "execution_count": 65,
   "id": "46b5a284",
   "metadata": {},
   "outputs": [
    {
     "name": "stdout",
     "output_type": "stream",
     "text": [
      "i\n",
      "ice\n",
      "cream\n",
      "ice\n",
      "cream\n",
      " 50727 steed dr \n",
      "canton \n",
      "MI\n",
      "48187 \n"
     ]
    },
    {
     "data": {
      "text/plain": [
       "' total states 25'"
      ]
     },
     "execution_count": 65,
     "metadata": {},
     "output_type": "execute_result"
    }
   ],
   "source": [
    "# strings\n",
    "\n",
    "text = 'ice cream'\n",
    "\n",
    "print(text[0])\n",
    "\n",
    "# text[0] = 'p' # not allowed in python\n",
    "\n",
    "print(text[0:3])\n",
    "\n",
    "print(text[4:9])\n",
    "\n",
    "print(text[:3])\n",
    "print(text[4:])\n",
    "\n",
    "# multiline string \n",
    "\n",
    "address = ''' 50727 steed dr \n",
    "canton \n",
    "MI\n",
    "48187 '''\n",
    "\n",
    "\n",
    "print (address)\n",
    "\n",
    "# join number with string \n",
    "s= ' total states'\n",
    "num = 25\n",
    "\n",
    "#str(num) # convert number to string \n",
    "\n",
    "s + ' ' + str(num)\n"
   ]
  },
  {
   "cell_type": "code",
   "execution_count": 80,
   "id": "b68adf26",
   "metadata": {},
   "outputs": [
    {
     "name": "stdout",
     "output_type": "stream",
     "text": [
      "length of string 13\n",
      "str_combined=  i like to eat \n",
      "the combined string is \" i like to eat \"\n"
     ]
    }
   ],
   "source": [
    "print ('length of string',len(s))\n",
    "\n",
    "str1 = 'i like'\n",
    "str2 = 'to eat '\n",
    "\n",
    "str_combined = str1+' '+ str2\n",
    "print('str_combined= ', str_combined)\n",
    "\n",
    "print(f'the combined string is \" {str_combined}\"')\n",
    "\n",
    "#print(f'reversed string = {reverse(str1)}')"
   ]
  },
  {
   "cell_type": "code",
   "execution_count": 81,
   "id": "0d1301ad",
   "metadata": {},
   "outputs": [
    {
     "name": "stdout",
     "output_type": "stream",
     "text": [
      "Reversed string: ahsiM\n"
     ]
    }
   ],
   "source": [
    "# Reverse a string \n",
    "\n",
    "# Reversing a string using slicing\n",
    "#string_input = input(\"Enter a string: \")\n",
    "string_input = 'Misha'\n",
    "reversed_string = string_input[::-1]\n",
    "print(\"Reversed string:\", reversed_string)\n",
    "\n",
    "\n"
   ]
  },
  {
   "cell_type": "code",
   "execution_count": null,
   "id": "5f7412c3",
   "metadata": {},
   "outputs": [],
   "source": [
    "# reverse method can only be applied on a string so convert text to string and "
   ]
  },
  {
   "cell_type": "code",
   "execution_count": 95,
   "id": "827757f0",
   "metadata": {},
   "outputs": [
    {
     "name": "stdout",
     "output_type": "stream",
     "text": [
      "['bread', 'pasta', 'fruits']\n",
      "bread\n",
      "chips\n",
      "['chips', 'pasta']\n",
      "fruits\n",
      "['chips', 'pasta', 'fruits', 'butter']\n",
      "['chips', 'butter', 'pasta', 'fruits', 'butter']\n",
      "['chips', 'butter', 'pasta', 'fruits', 'butter', 'shampoo', 'conditioner']\n",
      "7\n"
     ]
    },
    {
     "data": {
      "text/plain": [
       "True"
      ]
     },
     "execution_count": 95,
     "metadata": {},
     "output_type": "execute_result"
    }
   ],
   "source": [
    "# Lists\n",
    "\n",
    "item1 = 'bread'\n",
    "item2 = 'pasta'\n",
    "item3 = 'fruits'\n",
    "\n",
    "items = ['bread','pasta','fruits']\n",
    "\n",
    "print(items)\n",
    "\n",
    "#access items with index\n",
    "\n",
    "print(items[0]) \n",
    "\n",
    "# modify the list\n",
    "\n",
    "items[0] = 'chips'\n",
    "\n",
    "print(items[0]) \n",
    "\n",
    "# range of elemets\n",
    "\n",
    "print(items[0:2]) # 2nd index is always exlcuded\n",
    "\n",
    "print(items[-1]) # last \n",
    "\n",
    "items.append('butter')\n",
    "print(items)\n",
    "\n",
    "items.insert(1,'butter' ) # insert in a specific position\n",
    "print(items)\n",
    "\n",
    "# join 2 lists\n",
    "food = items\n",
    "bathroom =['shampoo','conditioner']\n",
    "\n",
    "myitems = food+bathroom\n",
    "print(myitems)\n",
    "\n",
    "print(len(myitems))\n",
    "\n",
    "'pasta' in myitems # check for items in a list\n",
    "\n",
    "#cannot add string to a list eg - items +'chicken'"
   ]
  },
  {
   "cell_type": "markdown",
   "id": "29eecb00",
   "metadata": {},
   "source": [
    "# if statement"
   ]
  },
  {
   "cell_type": "code",
   "execution_count": 99,
   "id": "fe5746ba",
   "metadata": {},
   "outputs": [
    {
     "name": "stdout",
     "output_type": "stream",
     "text": [
      "enter a number33\n",
      "number is odd\n"
     ]
    }
   ],
   "source": [
    "\n",
    "\n",
    "num = input('enter a number') # takes input as a string . if its a number needs to be converted to a number\n",
    "num = int(num) # this converts the input string into a number\n",
    "\n",
    "if num%2 == 0 : # remainder # works on , < < == != >= <= , or and xor \n",
    "    print('number is even')\n",
    "else:\n",
    "    print('number is odd')\n"
   ]
  },
  {
   "cell_type": "code",
   "execution_count": 101,
   "id": "05fbb2ca",
   "metadata": {},
   "outputs": [
    {
     "name": "stdout",
     "output_type": "stream",
     "text": [
      "enter a dish namezadsa\n",
      "i'm not sure\n"
     ]
    }
   ],
   "source": [
    "# enter a dish name from user and you should tell what cusine its from\n",
    "\n",
    "# input and list and search list\n",
    "\n",
    "indian = ['samosa', 'dal','naan']\n",
    "chineese =['egg roll','potsicks','fried rice']\n",
    "italian =['pizza','pasta','rissoto']\n",
    "\n",
    "dish = input('enter a dish name')\n",
    "\n",
    "if dish in indian:\n",
    "    print ('Indian')\n",
    "    \n",
    "elif dish in chineese:\n",
    "    print('Chineese')\n",
    "elif dish in italian:\n",
    "    print('Italian')\n",
    "else:\n",
    "    print(\"i'm not sure\")"
   ]
  },
  {
   "cell_type": "markdown",
   "id": "61018abe",
   "metadata": {},
   "source": [
    "#### Temperature Check:\n",
    "Create a program that takes the current temperature as input and prints \"Wear a coat\" \n",
    "if the temperature is below 10 degrees Celsius and \"It's warm outside\" otherwise."
   ]
  },
  {
   "cell_type": "code",
   "execution_count": 139,
   "id": "b33ff009",
   "metadata": {},
   "outputs": [
    {
     "ename": "KeyboardInterrupt",
     "evalue": "Interrupted by user",
     "output_type": "error",
     "traceback": [
      "\u001b[0;31m---------------------------------------------------------------------------\u001b[0m",
      "\u001b[0;31mKeyboardInterrupt\u001b[0m                         Traceback (most recent call last)",
      "Input \u001b[0;32mIn [139]\u001b[0m, in \u001b[0;36m<cell line: 1>\u001b[0;34m()\u001b[0m\n\u001b[0;32m----> 1\u001b[0m ctemp \u001b[38;5;241m=\u001b[39m \u001b[38;5;28;43minput\u001b[39;49m\u001b[43m(\u001b[49m\u001b[38;5;124;43m'\u001b[39;49m\u001b[38;5;124;43menter the temperature\u001b[39;49m\u001b[38;5;124;43m'\u001b[39;49m\u001b[43m)\u001b[49m\n\u001b[1;32m      2\u001b[0m ctemp \u001b[38;5;241m=\u001b[39m \u001b[38;5;28mint\u001b[39m(ctemp)\n\u001b[1;32m      4\u001b[0m \u001b[38;5;28;01mif\u001b[39;00m ctemp \u001b[38;5;241m<\u001b[39m\u001b[38;5;241m=\u001b[39m \u001b[38;5;241m10\u001b[39m:\n",
      "File \u001b[0;32m/opt/anaconda3/lib/python3.9/site-packages/ipykernel/kernelbase.py:1075\u001b[0m, in \u001b[0;36mKernel.raw_input\u001b[0;34m(self, prompt)\u001b[0m\n\u001b[1;32m   1071\u001b[0m \u001b[38;5;28;01mif\u001b[39;00m \u001b[38;5;129;01mnot\u001b[39;00m \u001b[38;5;28mself\u001b[39m\u001b[38;5;241m.\u001b[39m_allow_stdin:\n\u001b[1;32m   1072\u001b[0m     \u001b[38;5;28;01mraise\u001b[39;00m StdinNotImplementedError(\n\u001b[1;32m   1073\u001b[0m         \u001b[38;5;124m\"\u001b[39m\u001b[38;5;124mraw_input was called, but this frontend does not support input requests.\u001b[39m\u001b[38;5;124m\"\u001b[39m\n\u001b[1;32m   1074\u001b[0m     )\n\u001b[0;32m-> 1075\u001b[0m \u001b[38;5;28;01mreturn\u001b[39;00m \u001b[38;5;28;43mself\u001b[39;49m\u001b[38;5;241;43m.\u001b[39;49m\u001b[43m_input_request\u001b[49m\u001b[43m(\u001b[49m\n\u001b[1;32m   1076\u001b[0m \u001b[43m    \u001b[49m\u001b[38;5;28;43mstr\u001b[39;49m\u001b[43m(\u001b[49m\u001b[43mprompt\u001b[49m\u001b[43m)\u001b[49m\u001b[43m,\u001b[49m\n\u001b[1;32m   1077\u001b[0m \u001b[43m    \u001b[49m\u001b[38;5;28;43mself\u001b[39;49m\u001b[38;5;241;43m.\u001b[39;49m\u001b[43m_parent_ident\u001b[49m\u001b[43m[\u001b[49m\u001b[38;5;124;43m\"\u001b[39;49m\u001b[38;5;124;43mshell\u001b[39;49m\u001b[38;5;124;43m\"\u001b[39;49m\u001b[43m]\u001b[49m\u001b[43m,\u001b[49m\n\u001b[1;32m   1078\u001b[0m \u001b[43m    \u001b[49m\u001b[38;5;28;43mself\u001b[39;49m\u001b[38;5;241;43m.\u001b[39;49m\u001b[43mget_parent\u001b[49m\u001b[43m(\u001b[49m\u001b[38;5;124;43m\"\u001b[39;49m\u001b[38;5;124;43mshell\u001b[39;49m\u001b[38;5;124;43m\"\u001b[39;49m\u001b[43m)\u001b[49m\u001b[43m,\u001b[49m\n\u001b[1;32m   1079\u001b[0m \u001b[43m    \u001b[49m\u001b[43mpassword\u001b[49m\u001b[38;5;241;43m=\u001b[39;49m\u001b[38;5;28;43;01mFalse\u001b[39;49;00m\u001b[43m,\u001b[49m\n\u001b[1;32m   1080\u001b[0m \u001b[43m\u001b[49m\u001b[43m)\u001b[49m\n",
      "File \u001b[0;32m/opt/anaconda3/lib/python3.9/site-packages/ipykernel/kernelbase.py:1120\u001b[0m, in \u001b[0;36mKernel._input_request\u001b[0;34m(self, prompt, ident, parent, password)\u001b[0m\n\u001b[1;32m   1117\u001b[0m             \u001b[38;5;28;01mbreak\u001b[39;00m\n\u001b[1;32m   1118\u001b[0m \u001b[38;5;28;01mexcept\u001b[39;00m \u001b[38;5;167;01mKeyboardInterrupt\u001b[39;00m:\n\u001b[1;32m   1119\u001b[0m     \u001b[38;5;66;03m# re-raise KeyboardInterrupt, to truncate traceback\u001b[39;00m\n\u001b[0;32m-> 1120\u001b[0m     \u001b[38;5;28;01mraise\u001b[39;00m \u001b[38;5;167;01mKeyboardInterrupt\u001b[39;00m(\u001b[38;5;124m\"\u001b[39m\u001b[38;5;124mInterrupted by user\u001b[39m\u001b[38;5;124m\"\u001b[39m) \u001b[38;5;28;01mfrom\u001b[39;00m \u001b[38;5;28mNone\u001b[39m\n\u001b[1;32m   1121\u001b[0m \u001b[38;5;28;01mexcept\u001b[39;00m \u001b[38;5;167;01mException\u001b[39;00m:\n\u001b[1;32m   1122\u001b[0m     \u001b[38;5;28mself\u001b[39m\u001b[38;5;241m.\u001b[39mlog\u001b[38;5;241m.\u001b[39mwarning(\u001b[38;5;124m\"\u001b[39m\u001b[38;5;124mInvalid Message:\u001b[39m\u001b[38;5;124m\"\u001b[39m, exc_info\u001b[38;5;241m=\u001b[39m\u001b[38;5;28;01mTrue\u001b[39;00m)\n",
      "\u001b[0;31mKeyboardInterrupt\u001b[0m: Interrupted by user"
     ]
    }
   ],
   "source": [
    "ctemp = input('enter the temperature')\n",
    "ctemp = int(ctemp)\n",
    "\n",
    "if ctemp <= 10:\n",
    "    print('Wear a coat')\n",
    "else:\n",
    "    print(\"It's warm outside\")"
   ]
  },
  {
   "cell_type": "markdown",
   "id": "b2cd37e0",
   "metadata": {},
   "source": [
    "#### Grade Classifier:\n",
    "Write a program that takes a student's percentage score as input and prints their grade based on the following criteria:\n",
    "\n",
    "90 or above: A\n",
    "80-89: B\n",
    "70-79: C\n",
    "60-69: D\n",
    "Below 60: F"
   ]
  },
  {
   "cell_type": "code",
   "execution_count": 119,
   "id": "283ccb31",
   "metadata": {},
   "outputs": [
    {
     "name": "stdout",
     "output_type": "stream",
     "text": [
      "enter percentage66\n",
      "C\n"
     ]
    }
   ],
   "source": [
    "per = input('enter percentage')\n",
    "per = int(per)\n",
    "\n",
    "if per in range(80,90):\n",
    "    print('A')\n",
    "elif per in range(70,80):\n",
    "    print('B')\n",
    "elif per in range(60,70):\n",
    "    print ('C')\n",
    "elif per <60:\n",
    "    print(\"F\")\n",
    "else:\n",
    "    print(\" i'm not sure \")\n"
   ]
  },
  {
   "cell_type": "markdown",
   "id": "03590ee9",
   "metadata": {},
   "source": [
    "#### Leap Year Checker:\n",
    "Create a programthat takes a year from the user and checks whether it's a leap year or not. \n",
    "Print \"Leap year\" if it's divisible by 4 but not by 100, or if it's divisible by 400."
   ]
  },
  {
   "cell_type": "code",
   "execution_count": 123,
   "id": "7b77bcb5",
   "metadata": {},
   "outputs": [
    {
     "name": "stdout",
     "output_type": "stream",
     "text": [
      "enter the year2024\n",
      "leap year\n"
     ]
    }
   ],
   "source": [
    "year = input('enter the year')\n",
    "year = int(year)\n",
    "\n",
    "if (year % 4 ==0 and year % 100 !=0) or year %400 ==0 :\n",
    "    print('leap year')\n",
    "else:\n",
    "    print('not a leap year')\n"
   ]
  },
  {
   "cell_type": "markdown",
   "id": "63a0616c",
   "metadata": {},
   "source": [
    "#### Triangle Validator:\n",
    "Write a program that takes three integer inputs representing sides of a triangle. \n",
    "The program should check and print whether these sides can form a valid triangle. \n",
    "(Hint: The sum of the lengths of any two sides must be greater than the length of \n",
    " the third side for it to be a valid triangle.)"
   ]
  },
  {
   "cell_type": "code",
   "execution_count": 138,
   "id": "12b3e107",
   "metadata": {},
   "outputs": [
    {
     "name": "stdout",
     "output_type": "stream",
     "text": [
      "enter values seperated by space1 1 3\n",
      "its not a triangle\n"
     ]
    }
   ],
   "source": [
    "x , y , z = input('enter values seperated by space').split()\n",
    "x = int(x)\n",
    "y = int(y)\n",
    "z = int(z)\n",
    "\n",
    "if (x+y >z) and (y+z>x) and (x+z >y):\n",
    "    print('its a traiangle')\n",
    "else:\n",
    "    print('its not a triangle')\n",
    "\n"
   ]
  },
  {
   "cell_type": "markdown",
   "id": "eb3958ad",
   "metadata": {},
   "source": [
    "# for Loop"
   ]
  },
  {
   "cell_type": "code",
   "execution_count": 140,
   "id": "03c16049",
   "metadata": {},
   "outputs": [
    {
     "name": "stdout",
     "output_type": "stream",
     "text": [
      "10150\n"
     ]
    }
   ],
   "source": [
    "exp = [2200,2100,2100,1800,1950]\n",
    "\n",
    "total = 0 \n",
    "\n",
    "for item in exp:\n",
    "    total = total +item\n",
    "print(total)"
   ]
  },
  {
   "cell_type": "code",
   "execution_count": 146,
   "id": "b3eb9fd5",
   "metadata": {},
   "outputs": [
    {
     "name": "stdout",
     "output_type": "stream",
     "text": [
      "Month: 1 expense: 2200\n",
      "Month: 2 expense: 2100\n",
      "Month: 3 expense: 2100\n",
      "Month: 4 expense: 1800\n",
      "Month: 5 expense: 1950\n",
      "total 30450\n"
     ]
    }
   ],
   "source": [
    "for i in range(len(exp)):\n",
    "    print('Month:',i+1, 'expense:',exp[i])\n",
    "    total =total = total +exp[i]\n",
    "print('total',total)"
   ]
  },
  {
   "cell_type": "code",
   "execution_count": 157,
   "id": "e8d07338",
   "metadata": {},
   "outputs": [
    {
     "name": "stdout",
     "output_type": "stream",
     "text": [
      "key not found garage\n",
      "key not found living room\n",
      "key location bedroom\n",
      "1\n",
      "3\n",
      "5\n"
     ]
    }
   ],
   "source": [
    "# break(skip steps below if we find the required option)  \n",
    "# continue (skip steps below untill we find the required option)\n",
    "\n",
    "key_loc = 'bedroom'\n",
    "\n",
    "loc = ['garage', 'living room', 'bedroom','closet','chair']\n",
    "\n",
    "for i in loc:\n",
    "    if i == key_loc:\n",
    "        print('key location',i)\n",
    "        break\n",
    "    else:\n",
    "        print('key not found',i)\n",
    "        \n",
    "# check for even number\n",
    "for i in range(1,6):\n",
    "    if i%2==0:\n",
    "        continue\n",
    "    print(i)\n",
    "    "
   ]
  },
  {
   "cell_type": "markdown",
   "id": "f2c7c720",
   "metadata": {},
   "source": [
    "# while Loop \n",
    "must increment"
   ]
  },
  {
   "cell_type": "code",
   "execution_count": 159,
   "id": "de30c076",
   "metadata": {},
   "outputs": [
    {
     "name": "stdout",
     "output_type": "stream",
     "text": [
      "1\n",
      "2\n",
      "3\n",
      "4\n"
     ]
    }
   ],
   "source": [
    "i = 1\n",
    "while i<5:\n",
    "    print(i)\n",
    "    i = i+1"
   ]
  },
  {
   "cell_type": "markdown",
   "id": "6183c9db",
   "metadata": {},
   "source": [
    "#### Printing Multiplication Table:\n",
    "Write a program that takes an integer input from the user and prints its multiplication table from 1 to 10."
   ]
  },
  {
   "cell_type": "code",
   "execution_count": 161,
   "id": "eeb73f47",
   "metadata": {},
   "outputs": [
    {
     "name": "stdout",
     "output_type": "stream",
     "text": [
      "enter the number : 2\n",
      "2 * 1 = 2\n",
      "2 * 2 = 4\n",
      "2 * 3 = 6\n",
      "2 * 4 = 8\n",
      "2 * 5 = 10\n",
      "2 * 6 = 12\n",
      "2 * 7 = 14\n",
      "2 * 8 = 16\n",
      "2 * 9 = 18\n",
      "2 * 10 = 20\n"
     ]
    }
   ],
   "source": [
    "num = input('enter the number : ')\n",
    "num = int(num)\n",
    "\n",
    "for i in range(1,11):\n",
    "    print(num, '*' ,i ,'=',num*i)"
   ]
  },
  {
   "cell_type": "markdown",
   "id": "5917d6b4",
   "metadata": {},
   "source": [
    "#### Calculating Factorial:\n",
    "Create a program that takes an integer input and calculates its factorial using a for loop."
   ]
  },
  {
   "cell_type": "code",
   "execution_count": 162,
   "id": "46003fee",
   "metadata": {},
   "outputs": [
    {
     "name": "stdout",
     "output_type": "stream",
     "text": [
      "enter the number : 4\n",
      "factorial 24\n"
     ]
    }
   ],
   "source": [
    "4 * 3*2*1\n",
    "\n",
    "num = input('enter the number : ')\n",
    "num = int(num)\n",
    "fac = 1\n",
    "for i in range (1,num+1):\n",
    "    fac = fac*num\n",
    "    num = num-1\n",
    "print('factorial',fac)"
   ]
  },
  {
   "cell_type": "markdown",
   "id": "908d8e8e",
   "metadata": {},
   "source": [
    "#### Printing Patterns:\n",
    "Write a program that uses nested for loops to print a pattern, such as a triangle or a diamond."
   ]
  },
  {
   "cell_type": "code",
   "execution_count": null,
   "id": "ac2b62b2",
   "metadata": {},
   "outputs": [],
   "source": [
    "   -\n",
    "  ---\n",
    " -----\n",
    "-------"
   ]
  },
  {
   "cell_type": "code",
   "execution_count": 190,
   "id": "649ead9c",
   "metadata": {},
   "outputs": [
    {
     "name": "stdout",
     "output_type": "stream",
     "text": [
      "   -   \n",
      "  ---  \n",
      " ----- \n",
      "-------\n"
     ]
    }
   ],
   "source": [
    "var = 7\n",
    "for j in range(1, var + 1, 2):\n",
    "    spaces = ' ' * ((var - j) // 2)\n",
    "    dashes = '-' * j\n",
    "    print(spaces + dashes + spaces)\n"
   ]
  },
  {
   "cell_type": "markdown",
   "id": "56bb591c",
   "metadata": {},
   "source": [
    "#### Fibonacci Sequence:\n",
    "Generate the Fibonacci sequence for a given number of terms (taken as input) using a for loop."
   ]
  },
  {
   "cell_type": "code",
   "execution_count": 196,
   "id": "e6df1870",
   "metadata": {},
   "outputs": [
    {
     "ename": "KeyboardInterrupt",
     "evalue": "Interrupted by user",
     "output_type": "error",
     "traceback": [
      "\u001b[0;31m---------------------------------------------------------------------------\u001b[0m",
      "\u001b[0;31mKeyboardInterrupt\u001b[0m                         Traceback (most recent call last)",
      "Input \u001b[0;32mIn [196]\u001b[0m, in \u001b[0;36m<cell line: 1>\u001b[0;34m()\u001b[0m\n\u001b[0;32m----> 1\u001b[0m a \u001b[38;5;241m=\u001b[39m \u001b[38;5;28;43minput\u001b[39;49m\u001b[43m(\u001b[49m\u001b[38;5;124;43m'\u001b[39;49m\u001b[38;5;124;43menter 1st number\u001b[39;49m\u001b[38;5;124;43m'\u001b[39;49m\u001b[43m)\u001b[49m\n\u001b[1;32m      2\u001b[0m a \u001b[38;5;241m=\u001b[39m \u001b[38;5;28mint\u001b[39m(a)\n\u001b[1;32m      3\u001b[0m b \u001b[38;5;241m=\u001b[39m \u001b[38;5;28minput\u001b[39m(\u001b[38;5;124m'\u001b[39m\u001b[38;5;124menter 2nd number\u001b[39m\u001b[38;5;124m'\u001b[39m)\n",
      "File \u001b[0;32m/opt/anaconda3/lib/python3.9/site-packages/ipykernel/kernelbase.py:1075\u001b[0m, in \u001b[0;36mKernel.raw_input\u001b[0;34m(self, prompt)\u001b[0m\n\u001b[1;32m   1071\u001b[0m \u001b[38;5;28;01mif\u001b[39;00m \u001b[38;5;129;01mnot\u001b[39;00m \u001b[38;5;28mself\u001b[39m\u001b[38;5;241m.\u001b[39m_allow_stdin:\n\u001b[1;32m   1072\u001b[0m     \u001b[38;5;28;01mraise\u001b[39;00m StdinNotImplementedError(\n\u001b[1;32m   1073\u001b[0m         \u001b[38;5;124m\"\u001b[39m\u001b[38;5;124mraw_input was called, but this frontend does not support input requests.\u001b[39m\u001b[38;5;124m\"\u001b[39m\n\u001b[1;32m   1074\u001b[0m     )\n\u001b[0;32m-> 1075\u001b[0m \u001b[38;5;28;01mreturn\u001b[39;00m \u001b[38;5;28;43mself\u001b[39;49m\u001b[38;5;241;43m.\u001b[39;49m\u001b[43m_input_request\u001b[49m\u001b[43m(\u001b[49m\n\u001b[1;32m   1076\u001b[0m \u001b[43m    \u001b[49m\u001b[38;5;28;43mstr\u001b[39;49m\u001b[43m(\u001b[49m\u001b[43mprompt\u001b[49m\u001b[43m)\u001b[49m\u001b[43m,\u001b[49m\n\u001b[1;32m   1077\u001b[0m \u001b[43m    \u001b[49m\u001b[38;5;28;43mself\u001b[39;49m\u001b[38;5;241;43m.\u001b[39;49m\u001b[43m_parent_ident\u001b[49m\u001b[43m[\u001b[49m\u001b[38;5;124;43m\"\u001b[39;49m\u001b[38;5;124;43mshell\u001b[39;49m\u001b[38;5;124;43m\"\u001b[39;49m\u001b[43m]\u001b[49m\u001b[43m,\u001b[49m\n\u001b[1;32m   1078\u001b[0m \u001b[43m    \u001b[49m\u001b[38;5;28;43mself\u001b[39;49m\u001b[38;5;241;43m.\u001b[39;49m\u001b[43mget_parent\u001b[49m\u001b[43m(\u001b[49m\u001b[38;5;124;43m\"\u001b[39;49m\u001b[38;5;124;43mshell\u001b[39;49m\u001b[38;5;124;43m\"\u001b[39;49m\u001b[43m)\u001b[49m\u001b[43m,\u001b[49m\n\u001b[1;32m   1079\u001b[0m \u001b[43m    \u001b[49m\u001b[43mpassword\u001b[49m\u001b[38;5;241;43m=\u001b[39;49m\u001b[38;5;28;43;01mFalse\u001b[39;49;00m\u001b[43m,\u001b[49m\n\u001b[1;32m   1080\u001b[0m \u001b[43m\u001b[49m\u001b[43m)\u001b[49m\n",
      "File \u001b[0;32m/opt/anaconda3/lib/python3.9/site-packages/ipykernel/kernelbase.py:1120\u001b[0m, in \u001b[0;36mKernel._input_request\u001b[0;34m(self, prompt, ident, parent, password)\u001b[0m\n\u001b[1;32m   1117\u001b[0m             \u001b[38;5;28;01mbreak\u001b[39;00m\n\u001b[1;32m   1118\u001b[0m \u001b[38;5;28;01mexcept\u001b[39;00m \u001b[38;5;167;01mKeyboardInterrupt\u001b[39;00m:\n\u001b[1;32m   1119\u001b[0m     \u001b[38;5;66;03m# re-raise KeyboardInterrupt, to truncate traceback\u001b[39;00m\n\u001b[0;32m-> 1120\u001b[0m     \u001b[38;5;28;01mraise\u001b[39;00m \u001b[38;5;167;01mKeyboardInterrupt\u001b[39;00m(\u001b[38;5;124m\"\u001b[39m\u001b[38;5;124mInterrupted by user\u001b[39m\u001b[38;5;124m\"\u001b[39m) \u001b[38;5;28;01mfrom\u001b[39;00m \u001b[38;5;28mNone\u001b[39m\n\u001b[1;32m   1121\u001b[0m \u001b[38;5;28;01mexcept\u001b[39;00m \u001b[38;5;167;01mException\u001b[39;00m:\n\u001b[1;32m   1122\u001b[0m     \u001b[38;5;28mself\u001b[39m\u001b[38;5;241m.\u001b[39mlog\u001b[38;5;241m.\u001b[39mwarning(\u001b[38;5;124m\"\u001b[39m\u001b[38;5;124mInvalid Message:\u001b[39m\u001b[38;5;124m\"\u001b[39m, exc_info\u001b[38;5;241m=\u001b[39m\u001b[38;5;28;01mTrue\u001b[39;00m)\n",
      "\u001b[0;31mKeyboardInterrupt\u001b[0m: Interrupted by user"
     ]
    }
   ],
   "source": [
    "a = input('enter 1st number')\n",
    "a = int(a)\n",
    "b = input('enter 2nd number')\n",
    "b = int(b)\n",
    "print('num1:',num1, 'num2:',num2)\n",
    "n = input('enter the number of terms in the fibbinoci series')\n",
    "n = int(n)\n",
    "fib_sequence = [a,b]# create a list\n",
    "# Generate Fibonacci sequence using a for loop\n",
    "for i in range(2, n):\n",
    "    next_term = a + b\n",
    "    fib_sequence.append(next_term) # append the list \n",
    "    a, b = b, next_term\n",
    "\n",
    "print('fib_sequence',fib_sequence)\n",
    "\n",
    "\n"
   ]
  },
  {
   "cell_type": "markdown",
   "id": "54b2bd4a",
   "metadata": {},
   "source": [
    "#### Prime Number Checker:\n",
    "Create a program that checks whether a given number is prime or not using a for loop."
   ]
  },
  {
   "cell_type": "code",
   "execution_count": 210,
   "id": "276a869d",
   "metadata": {},
   "outputs": [
    {
     "name": "stdout",
     "output_type": "stream",
     "text": [
      "enter the number16\n",
      "not a prime number\n"
     ]
    }
   ],
   "source": [
    "num = input('enter the number')\n",
    "num = int(num)\n",
    "\n",
    "if num <=1:\n",
    "    print('not an integer')\n",
    "for i in range (2 , int((num**0.5)+1)):\n",
    "    if num%i == 0:\n",
    "        print('not a prime number')\n",
    "        break\n",
    "    else:\n",
    "        print('prime number')\n",
    "        break\n",
    "       "
   ]
  },
  {
   "cell_type": "markdown",
   "id": "0008684a",
   "metadata": {},
   "source": [
    "# Functions "
   ]
  },
  {
   "cell_type": "code",
   "execution_count": 213,
   "id": "ea07b8cd",
   "metadata": {},
   "outputs": [],
   "source": [
    "def cqalculate_total(exp): # function arguments \n",
    "    total = 0\n",
    "    for item in exp:\n",
    "        total = total + item\n",
    "    return total# funtion return value"
   ]
  },
  {
   "cell_type": "code",
   "execution_count": 214,
   "id": "816a4f05",
   "metadata": {},
   "outputs": [
    {
     "name": "stdout",
     "output_type": "stream",
     "text": [
      "1338 5291\n"
     ]
    }
   ],
   "source": [
    "tom_exp =[13, 14,535,653,123]\n",
    "joe_exp =[13,134,4145,657,342]\n",
    "\n",
    "tom_total = cqalculate_total(tom_exp)# calling the function\n",
    "joe_total= cqalculate_total(joe_exp)\n",
    "\n",
    "print(tom_total,joe_total )"
   ]
  },
  {
   "cell_type": "code",
   "execution_count": 217,
   "id": "28c2ada1",
   "metadata": {},
   "outputs": [
    {
     "data": {
      "text/plain": [
       "7"
      ]
     },
     "execution_count": 217,
     "metadata": {},
     "output_type": "execute_result"
    }
   ],
   "source": [
    "def sum(a, b):\n",
    "    total = a+b\n",
    "    return total\n",
    "\n",
    "\n",
    "sum(1,2)\n",
    "\n",
    "sum(b=3, a=4) # named arguments \n",
    "\n",
    "# local and global variables\n",
    "\n",
    "# default arguments \n",
    "def sum(a, b=0) \n",
    "# assigjng a value in the function makes it a default value . you are free to call function by assigning any value for a  and b \n",
    "# default value will be override."
   ]
  },
  {
   "cell_type": "markdown",
   "id": "811537e6",
   "metadata": {},
   "source": [
    "#### Write a function called calculate_area that takes base and height as an input and returns and area of a triangle. \n",
    "Equation of an area of a triangle is,\n",
    "\n",
    "area = (1/2)*base*height"
   ]
  },
  {
   "cell_type": "markdown",
   "id": "1ec9e1ae",
   "metadata": {},
   "source": [
    "#### Modify above function to take third parameter shape type. It can be either \"triangle\" or \"rectangle\". \n",
    "Based on shape type it will calculate area. Equation of rectangle's area is,"
   ]
  },
  {
   "cell_type": "code",
   "execution_count": 225,
   "id": "d4754abf",
   "metadata": {},
   "outputs": [
    {
     "data": {
      "text/plain": [
       "75.0"
      ]
     },
     "execution_count": 225,
     "metadata": {},
     "output_type": "execute_result"
    }
   ],
   "source": [
    "base = 10\n",
    "height = 15\n",
    "\n",
    "def area(b, h,shape ='traingle'):\n",
    "    if shape =='traingle':\n",
    "        area = 1/2 * b* h\n",
    "    elif shape =='rectangle':\n",
    "        area = b*h\n",
    "    return area\n",
    "\n",
    "area(10,15)"
   ]
  },
  {
   "cell_type": "markdown",
   "id": "71ceeb7a",
   "metadata": {},
   "source": [
    "#### Write a function called print_pattern that takes integer \n",
    "number as an argument and prints following pattern if input number is 3,\n"
   ]
  },
  {
   "cell_type": "code",
   "execution_count": 229,
   "id": "f9682397",
   "metadata": {},
   "outputs": [
    {
     "name": "stdout",
     "output_type": "stream",
     "text": [
      "*\n",
      "**\n",
      "***\n",
      "****\n"
     ]
    }
   ],
   "source": [
    "def star(n):\n",
    "    for i in range (1, n+1):\n",
    "        print('*' * i)\n",
    "        \n",
    "star(4)"
   ]
  },
  {
   "cell_type": "markdown",
   "id": "4d7f4001",
   "metadata": {},
   "source": [
    "# dictionaries"
   ]
  },
  {
   "cell_type": "code",
   "execution_count": 241,
   "id": "7168130b",
   "metadata": {},
   "outputs": [
    {
     "name": "stdout",
     "output_type": "stream",
     "text": [
      "key:  rob value : 354545\n",
      "key:  jim value : 435455\n",
      "key:  sam value : 2532345\n",
      "key:  rob value : 354545\n",
      "key:  jim value : 435455\n",
      "key:  sam value : 2532345\n"
     ]
    },
    {
     "data": {
      "text/plain": [
       "True"
      ]
     },
     "execution_count": 241,
     "metadata": {},
     "output_type": "execute_result"
    }
   ],
   "source": [
    "d = {'tom':132432,'rob':354545,'jim':435455} # Key value pair\n",
    "\n",
    "d['tom'] #access value with pair\n",
    "\n",
    "# add value to dic\n",
    "\n",
    "d['sam']=2532345 \n",
    "\n",
    "del d['tom'] # delete a key value pair\n",
    "\n",
    "# looping through the key value pairs in a dictionary\n",
    "for key in d:\n",
    "    print('key: ',key, 'value :', d[key])\n",
    "\n",
    "for k , v in d.items():\n",
    "     print('key: ',k, 'value :', v)\n",
    "    \n",
    "# check if a specifc person is in the dictionary\n",
    "\n",
    "'tom' in d \n",
    "'sam' in d\n",
    "\n",
    "# d.clear - clears everything in dictionary"
   ]
  },
  {
   "cell_type": "markdown",
   "id": "385df310",
   "metadata": {},
   "source": [
    "# Tuples"
   ]
  },
  {
   "cell_type": "code",
   "execution_count": 243,
   "id": "a97e5520",
   "metadata": {},
   "outputs": [
    {
     "name": "stdout",
     "output_type": "stream",
     "text": [
      "5\n"
     ]
    }
   ],
   "source": [
    "#eh represent a ge0metric point in 2d plane\n",
    "\n",
    "point = (5,9) # this is a tuple\n",
    "\n",
    "print(point[0])\n",
    "print(point[1])\n",
    "\n",
    "# diff between list(values have same meaning) and tuple(values have diff meaning) \n",
    "\n",
    "groc_list=['bread', 'cheese','butter','shampoo'] # items of same meaning (dimension) ita  grocery\n",
    "\n",
    " # point5 and 9 have different meanings/ dimensions of a same thing \n",
    "    \n",
    "address('50727 steed dr', 'canton','Michigan','48187')# this is a tuple as each is represented in a different dimension. \n",
    "# same city , same address , # state , # zipcode\n",
    "\n",
    "\n",
    "# tuples once created cant be changed \n",
    "\n"
   ]
  },
  {
   "cell_type": "markdown",
   "id": "39bfd494",
   "metadata": {},
   "source": [
    "#### We have following information on countries and their population (population is in crores),\n",
    "\n",
    "Country\tPopulation\n",
    "China\t143\n",
    "India\t136\n",
    "USA\t32\n",
    "Pakistan\t21\n",
    "Using above create a dictionary of countries and its population\n",
    "Write a program that asks user for three type of inputs,\n",
    "print: if user enter print then it should print all countries with their population in this format,\n",
    "china==>143\n",
    "india==>136\n",
    "usa==>32\n",
    "pakistan==>21\n",
    "add: if user input add then it should further ask for a country name to add. If country already exist in our dataset then it should print that it exist and do nothing. If it doesn't then it asks for population and add that new country/population in our dictionary and print it\n",
    "remove: when user inputs remove it should ask for a country to remove. If country exist in our dictionary then remove it and print new dictionary using format shown above in (a). Else print that country doesn't exist!\n",
    "query: on this again ask user for which country he or she wants to query. When user inputs that country it will print population of that country."
   ]
  },
  {
   "cell_type": "code",
   "execution_count": 245,
   "id": "656b442e",
   "metadata": {},
   "outputs": [
    {
     "data": {
      "text/plain": [
       "{'China': 143, 'India': 136, 'USA': 32, 'Pakistan': 21}"
      ]
     },
     "execution_count": 245,
     "metadata": {},
     "output_type": "execute_result"
    }
   ],
   "source": [
    "\n",
    "cd = {'China':143,'India':136,'USA':32,'Pakistan':21}\n",
    "\n",
    "cd\n"
   ]
  },
  {
   "cell_type": "code",
   "execution_count": 258,
   "id": "56d9fe19",
   "metadata": {},
   "outputs": [
    {
     "name": "stdout",
     "output_type": "stream",
     "text": [
      "enter your functionremove\n",
      "enter the country name to removePakistan\n",
      "country doesnt exist\n"
     ]
    }
   ],
   "source": [
    "ip = input('enter your function')\n",
    "\n",
    "\n",
    "if ip == 'print':\n",
    "    print(cd)\n",
    "elif ip =='add':\n",
    "    key =input('enter the country name')\n",
    "    if key in cd:\n",
    "        print('country already exists')\n",
    "    else:\n",
    "        value = input('enter the population')\n",
    "        cd[key] = value\n",
    "        print(cd)\n",
    "elif ip =='remove':\n",
    "    key =input('enter the country name to remove')\n",
    "    if cd[key] in cd:\n",
    "        del cd[key]\n",
    "        print(cd)\n",
    "    else:\n",
    "        print('country doesnt exist')\n",
    "elif ip =='query':\n",
    "    key = input('which country would you like to know the populaton for')\n",
    "    print(cd[key])"
   ]
  },
  {
   "cell_type": "markdown",
   "id": "c374734c",
   "metadata": {},
   "source": [
    "#### You are given following list of stocks and their prices in last 3 days,\n",
    "\n",
    "Stock\tPrices\n",
    "info\t[600,630,620]\n",
    "ril\t[1430,1490,1567]\n",
    "mtl\t[234,180,160]\n",
    "Write a program that asks user for operation. Value of operations could be,\n",
    "print: When user enters print it should print following,\n",
    "info ==> [600, 630, 620] ==> avg:  616.67\n",
    "ril ==> [1430, 1490, 1567] ==> avg:  1495.67\n",
    "mtl ==> [234, 180, 160] ==> avg:  191.33\n",
    "add: When user enters 'add', it asks for stock ticker and price. If stock already exist in your list (like info, ril etc) then it will append the price to the list. Otherwise it will create new entry in your dictionary. For example entering 'tata' and 560 will add tata ==> [560] to the dictionary of stocks.\n"
   ]
  },
  {
   "cell_type": "code",
   "execution_count": 282,
   "id": "4a2b8db7",
   "metadata": {},
   "outputs": [
    {
     "name": "stdout",
     "output_type": "stream",
     "text": [
      "enter your operationadd\n",
      "enter stock and price seperated by spaceads \n",
      "enter the price values123 124 234\n"
     ]
    }
   ],
   "source": [
    "stocks = {'info': [600,630,620],\n",
    "    'ril': [1430,1490,1567],\n",
    "    'mtl': [234,180,160]}\n",
    "\n",
    "operation = input('enter your operation')\n",
    "\n",
    "def avg(a=0, b=0, c=0):\n",
    "    avg = a+b+c/3\n",
    "    return avg\n",
    "\n",
    "if operation =='print':\n",
    "    for key in stocks:\n",
    "        values =stocks[key]\n",
    "        print('key: ',key, '==>','value :', stocks[key],'==>','avg:', avg(values[0],values[1],values[2]))\n",
    "elif operation =='add':\n",
    "    price =[]\n",
    "    stock =input('enter stock and price seperated by space')\n",
    "    price = input('enter the price values')\n",
    "    prices = list(map(int, price.split())) # map(int) applies int function to each string - list converts reulting iterable back into list\n",
    "    if stock in stocks:\n",
    "        stocks[stock].append(prices)\n",
    "    else:\n",
    "        stocks[stock] = prices\n",
    "        \n",
    "    \n"
   ]
  },
  {
   "cell_type": "code",
   "execution_count": 283,
   "id": "c8eb4234",
   "metadata": {},
   "outputs": [
    {
     "data": {
      "text/plain": [
       "{'info': [600, 630, 620],\n",
       " 'ril': [1430, 1490, 1567],\n",
       " 'mtl': [234, 180, 160],\n",
       " 'ads ': [123, 124, 234]}"
      ]
     },
     "execution_count": 283,
     "metadata": {},
     "output_type": "execute_result"
    }
   ],
   "source": [
    "stocks"
   ]
  },
  {
   "cell_type": "markdown",
   "id": "a670ae37",
   "metadata": {},
   "source": [
    "#### Write circle_calc() function that takes radius of a circle as an input from user and then it calculates and \n",
    "returns area, circumference and diameter. \n",
    "You should get these values in your main program by calling circle_calc function and then print them\n"
   ]
  },
  {
   "cell_type": "code",
   "execution_count": 287,
   "id": "2c658a83",
   "metadata": {},
   "outputs": [
    {
     "name": "stdout",
     "output_type": "stream",
     "text": [
      "enter the radius4\n",
      "area 50.26548245743669, cirumference 25.132741228718345, diameter 8.0\n"
     ]
    }
   ],
   "source": [
    "\n",
    "\n",
    "def circle_cal(r):\n",
    "    area=math.pi*(radius**2)\n",
    "    cirumference=2*math.pi*radius\n",
    "    diameter=2*radius\n",
    "    return area , cirumference,diameter \n",
    "\n",
    "radius = input ('enter the radius')\n",
    "radius = float(radius)\n",
    "area , c,d = circle_cal(radius)\n",
    "print(f\"area {area}, cirumference {c}, diameter {d}\")"
   ]
  },
  {
   "cell_type": "markdown",
   "id": "5d2bcb90",
   "metadata": {},
   "source": [
    "# Modules"
   ]
  },
  {
   "cell_type": "code",
   "execution_count": 288,
   "id": "5d8433a4",
   "metadata": {},
   "outputs": [
    {
     "data": {
      "text/plain": [
       "['__doc__',\n",
       " '__file__',\n",
       " '__loader__',\n",
       " '__name__',\n",
       " '__package__',\n",
       " '__spec__',\n",
       " 'acos',\n",
       " 'acosh',\n",
       " 'asin',\n",
       " 'asinh',\n",
       " 'atan',\n",
       " 'atan2',\n",
       " 'atanh',\n",
       " 'ceil',\n",
       " 'comb',\n",
       " 'copysign',\n",
       " 'cos',\n",
       " 'cosh',\n",
       " 'degrees',\n",
       " 'dist',\n",
       " 'e',\n",
       " 'erf',\n",
       " 'erfc',\n",
       " 'exp',\n",
       " 'expm1',\n",
       " 'fabs',\n",
       " 'factorial',\n",
       " 'floor',\n",
       " 'fmod',\n",
       " 'frexp',\n",
       " 'fsum',\n",
       " 'gamma',\n",
       " 'gcd',\n",
       " 'hypot',\n",
       " 'inf',\n",
       " 'isclose',\n",
       " 'isfinite',\n",
       " 'isinf',\n",
       " 'isnan',\n",
       " 'isqrt',\n",
       " 'lcm',\n",
       " 'ldexp',\n",
       " 'lgamma',\n",
       " 'log',\n",
       " 'log10',\n",
       " 'log1p',\n",
       " 'log2',\n",
       " 'modf',\n",
       " 'nan',\n",
       " 'nextafter',\n",
       " 'perm',\n",
       " 'pi',\n",
       " 'pow',\n",
       " 'prod',\n",
       " 'radians',\n",
       " 'remainder',\n",
       " 'sin',\n",
       " 'sinh',\n",
       " 'sqrt',\n",
       " 'tan',\n",
       " 'tanh',\n",
       " 'tau',\n",
       " 'trunc',\n",
       " 'ulp']"
      ]
     },
     "execution_count": 288,
     "metadata": {},
     "output_type": "execute_result"
    }
   ],
   "source": [
    "dir(math)"
   ]
  },
  {
   "cell_type": "code",
   "execution_count": 294,
   "id": "4b05e917",
   "metadata": {},
   "outputs": [
    {
     "data": {
      "text/plain": [
       "35"
      ]
     },
     "execution_count": 294,
     "metadata": {},
     "output_type": "execute_result"
    }
   ],
   "source": [
    "math.pi\n",
    "math.log10(100)\n",
    "math.log10(1000)\n",
    "math.floor(34.6456)\n",
    "math.ceil(34.6456)\n"
   ]
  },
  {
   "cell_type": "code",
   "execution_count": 298,
   "id": "85b6c8b4",
   "metadata": {},
   "outputs": [
    {
     "name": "stdout",
     "output_type": "stream",
     "text": [
      "    January 2016\n",
      "Mo Tu We Th Fr Sa Su\n",
      "             1  2  3\n",
      " 4  5  6  7  8  9 10\n",
      "11 12 13 14 15 16 17\n",
      "18 19 20 21 22 23 24\n",
      "25 26 27 28 29 30 31\n",
      "\n"
     ]
    }
   ],
   "source": [
    "import calendar\n",
    "cal = calendar.month(2016,1)\n",
    "print(cal)\n"
   ]
  },
  {
   "cell_type": "code",
   "execution_count": 299,
   "id": "826fdc1b",
   "metadata": {},
   "outputs": [
    {
     "data": {
      "text/plain": [
       "['Calendar',\n",
       " 'EPOCH',\n",
       " 'FRIDAY',\n",
       " 'February',\n",
       " 'HTMLCalendar',\n",
       " 'IllegalMonthError',\n",
       " 'IllegalWeekdayError',\n",
       " 'January',\n",
       " 'LocaleHTMLCalendar',\n",
       " 'LocaleTextCalendar',\n",
       " 'MONDAY',\n",
       " 'SATURDAY',\n",
       " 'SUNDAY',\n",
       " 'THURSDAY',\n",
       " 'TUESDAY',\n",
       " 'TextCalendar',\n",
       " 'WEDNESDAY',\n",
       " '_EPOCH_ORD',\n",
       " '__all__',\n",
       " '__builtins__',\n",
       " '__cached__',\n",
       " '__doc__',\n",
       " '__file__',\n",
       " '__loader__',\n",
       " '__name__',\n",
       " '__package__',\n",
       " '__spec__',\n",
       " '_colwidth',\n",
       " '_locale',\n",
       " '_localized_day',\n",
       " '_localized_month',\n",
       " '_monthlen',\n",
       " '_nextmonth',\n",
       " '_prevmonth',\n",
       " '_spacing',\n",
       " 'c',\n",
       " 'calendar',\n",
       " 'datetime',\n",
       " 'day_abbr',\n",
       " 'day_name',\n",
       " 'different_locale',\n",
       " 'error',\n",
       " 'firstweekday',\n",
       " 'format',\n",
       " 'formatstring',\n",
       " 'isleap',\n",
       " 'leapdays',\n",
       " 'main',\n",
       " 'mdays',\n",
       " 'month',\n",
       " 'month_abbr',\n",
       " 'month_name',\n",
       " 'monthcalendar',\n",
       " 'monthrange',\n",
       " 'prcal',\n",
       " 'prmonth',\n",
       " 'prweek',\n",
       " 'repeat',\n",
       " 'setfirstweekday',\n",
       " 'sys',\n",
       " 'timegm',\n",
       " 'week',\n",
       " 'weekday',\n",
       " 'weekheader']"
      ]
     },
     "execution_count": 299,
     "metadata": {},
     "output_type": "execute_result"
    }
   ],
   "source": [
    "dir(calendar)"
   ]
  },
  {
   "cell_type": "code",
   "execution_count": 301,
   "id": "c3baa3d3",
   "metadata": {},
   "outputs": [
    {
     "data": {
      "text/plain": [
       "True"
      ]
     },
     "execution_count": 301,
     "metadata": {},
     "output_type": "execute_result"
    }
   ],
   "source": [
    "calendar.isleap(2024)\n",
    "calendar.weekday(2024)"
   ]
  },
  {
   "cell_type": "markdown",
   "id": "03723621",
   "metadata": {},
   "source": [
    "most common modules\n",
    "\n",
    "math\n",
    "calendar \n",
    "\n"
   ]
  },
  {
   "cell_type": "markdown",
   "id": "06da1c98",
   "metadata": {},
   "source": [
    "#### custom module "
   ]
  },
  {
   "cell_type": "code",
   "execution_count": 304,
   "id": "2e64df58",
   "metadata": {},
   "outputs": [
    {
     "name": "stdout",
     "output_type": "stream",
     "text": [
      "Writing my_module.py\n"
     ]
    }
   ],
   "source": [
    "%%writefile my_module.py # creates a cell into cutsom module\n",
    "\n",
    "def triangle_area(b, h):\n",
    "    area = 1/2 * b* h\n",
    "    return area\n",
    "\n",
    "def rec_area(b, h):\n",
    "    area = b* h\n",
    "    return area      \n",
    "    "
   ]
  },
  {
   "cell_type": "code",
   "execution_count": 305,
   "id": "0e19d8e0",
   "metadata": {},
   "outputs": [
    {
     "data": {
      "text/plain": [
       "6.0"
      ]
     },
     "execution_count": 305,
     "metadata": {},
     "output_type": "execute_result"
    }
   ],
   "source": [
    "import my_module\n",
    "my_module.triangle_area(3,4)"
   ]
  },
  {
   "cell_type": "markdown",
   "id": "000a09e0",
   "metadata": {},
   "source": [
    "# JSON file in Python "
   ]
  },
  {
   "cell_type": "code",
   "execution_count": 311,
   "id": "3b452c8a",
   "metadata": {},
   "outputs": [
    {
     "name": "stdout",
     "output_type": "stream",
     "text": [
      "JSON data written to book.json\n"
     ]
    }
   ],
   "source": [
    "# create an address book and write some records into it\n",
    "\n",
    "\n",
    "book = {}\n",
    "\n",
    "book['tom']={'name':'tom',\n",
    "            'address':3454,\n",
    "            'phone':2432536646}\n",
    "book['bob']={'name':'bob',\n",
    "            'address':34545636,\n",
    "            'phone':354655476589}\n",
    "\n",
    "import json\n",
    "\n",
    "\n",
    "# Define the file path\n",
    "file_path = 'book.json'\n",
    "\n",
    "# Write JSON data to the file\n",
    "with open(file_path, 'w') as json_file:\n",
    "    json.dump(book, json_file)\n",
    "\n",
    "print(f\"JSON data written to {file_path}\")"
   ]
  },
  {
   "cell_type": "code",
   "execution_count": 317,
   "id": "6e338c8e",
   "metadata": {},
   "outputs": [
    {
     "name": "stdout",
     "output_type": "stream",
     "text": [
      "{'tom': {'name': 'tom', 'address': 3454, 'phone': 2432536646}, 'bob': {'name': 'bob', 'address': 34545636, 'phone': 354655476589}}\n"
     ]
    }
   ],
   "source": [
    "# how to read this json file \n",
    "\n",
    "# Define the file path\n",
    "file_path = 'book.json'\n",
    "\n",
    "# Read JSON data from the file\n",
    "with open(file_path, 'r') as json_file:\n",
    "    data = json.load(json_file)\n",
    "\n",
    "# Display the loaded JSON data\n",
    "print(data)  # convereted the json file into dicationary"
   ]
  },
  {
   "cell_type": "code",
   "execution_count": 322,
   "id": "13d0560d",
   "metadata": {},
   "outputs": [
    {
     "name": "stdout",
     "output_type": "stream",
     "text": [
      "{'name': 'tom', 'address': 3454, 'phone': 2432536646}\n",
      "3454\n",
      "{'name': 'tom', 'address': 3454, 'phone': 2432536646}\n",
      "{'name': 'bob', 'address': 34545636, 'phone': 354655476589}\n"
     ]
    }
   ],
   "source": [
    "type(data)\n",
    "print(data['tom'])\n",
    "print(data['tom']['address'])\n",
    "\n",
    "for person in data:\n",
    "    print (data[person])"
   ]
  },
  {
   "cell_type": "markdown",
   "id": "f32f894a",
   "metadata": {},
   "source": [
    "# Reading files"
   ]
  },
  {
   "cell_type": "code",
   "execution_count": 327,
   "id": "21ccc2e1",
   "metadata": {},
   "outputs": [
    {
     "data": {
      "text/html": [
       "<div>\n",
       "<style scoped>\n",
       "    .dataframe tbody tr th:only-of-type {\n",
       "        vertical-align: middle;\n",
       "    }\n",
       "\n",
       "    .dataframe tbody tr th {\n",
       "        vertical-align: top;\n",
       "    }\n",
       "\n",
       "    .dataframe thead th {\n",
       "        text-align: right;\n",
       "    }\n",
       "</style>\n",
       "<table border=\"1\" class=\"dataframe\">\n",
       "  <thead>\n",
       "    <tr style=\"text-align: right;\">\n",
       "      <th></th>\n",
       "      <th>TV</th>\n",
       "      <th>radio</th>\n",
       "      <th>newspaper</th>\n",
       "      <th>sales</th>\n",
       "    </tr>\n",
       "  </thead>\n",
       "  <tbody>\n",
       "    <tr>\n",
       "      <th>0</th>\n",
       "      <td>230.1</td>\n",
       "      <td>37.8</td>\n",
       "      <td>69.2</td>\n",
       "      <td>22.1</td>\n",
       "    </tr>\n",
       "    <tr>\n",
       "      <th>1</th>\n",
       "      <td>44.5</td>\n",
       "      <td>39.3</td>\n",
       "      <td>45.1</td>\n",
       "      <td>10.4</td>\n",
       "    </tr>\n",
       "    <tr>\n",
       "      <th>2</th>\n",
       "      <td>17.2</td>\n",
       "      <td>45.9</td>\n",
       "      <td>69.3</td>\n",
       "      <td>9.3</td>\n",
       "    </tr>\n",
       "    <tr>\n",
       "      <th>3</th>\n",
       "      <td>151.5</td>\n",
       "      <td>41.3</td>\n",
       "      <td>58.5</td>\n",
       "      <td>18.5</td>\n",
       "    </tr>\n",
       "    <tr>\n",
       "      <th>4</th>\n",
       "      <td>180.8</td>\n",
       "      <td>10.8</td>\n",
       "      <td>58.4</td>\n",
       "      <td>12.9</td>\n",
       "    </tr>\n",
       "  </tbody>\n",
       "</table>\n",
       "</div>"
      ],
      "text/plain": [
       "      TV  radio  newspaper  sales\n",
       "0  230.1   37.8       69.2   22.1\n",
       "1   44.5   39.3       45.1   10.4\n",
       "2   17.2   45.9       69.3    9.3\n",
       "3  151.5   41.3       58.5   18.5\n",
       "4  180.8   10.8       58.4   12.9"
      ]
     },
     "execution_count": 327,
     "metadata": {},
     "output_type": "execute_result"
    }
   ],
   "source": [
    "# read a csv file\n",
    "import pandas as pd\n",
    "df = pd.read_csv('advertising.csv')\n",
    "df.head()"
   ]
  },
  {
   "cell_type": "code",
   "execution_count": null,
   "id": "fed90b25",
   "metadata": {},
   "outputs": [],
   "source": [
    "# read a .txt , .xlsx file "
   ]
  },
  {
   "cell_type": "code",
   "execution_count": null,
   "id": "0e53f23d",
   "metadata": {},
   "outputs": [],
   "source": [
    "# df = pd.read_excel(advertising.xlxs)\n"
   ]
  },
  {
   "cell_type": "code",
   "execution_count": null,
   "id": "897d2969",
   "metadata": {},
   "outputs": [],
   "source": [
    "# read from a different folder \n",
    "\n",
    "with open('/path/to/your/file.csv', 'r') as file:\n",
    "    content = file.read()\n",
    "\n",
    "data = pd.read_excel('/path/to/your/file.xlsx')\n",
    "\n",
    "# train = pd.read_csv(\"./data/aug_train.csv\")\n",
    "\n",
    "Special Symbols:\n",
    ". (dot) represents the current directory.\n",
    ".. (double dots) represents the parent directory."
   ]
  },
  {
   "cell_type": "code",
   "execution_count": null,
   "id": "82a18d72",
   "metadata": {},
   "outputs": [],
   "source": [
    "# reading a pdf file \n",
    "import PyPDF2  # This line imports the PyPDF2 library, which provides functionalities to work with PDF files in Python.\n",
    "\n",
    "with open('file.pdf'), 'rb') as file:\n",
    "    # open('file.pdf', 'rb') opens the file named 'file.pdf' in read binary mode ('rb').\n",
    "    #rb stands for \"read binary\" mode, which is used for reading binary files like PDFs.\n",
    "    pdf_reader =PyPDF2.PdfReader(file)\n",
    "    # PyPDF2.PdfReader(file) creates a PdfReader object pdf_reader by passing the opened file object.\n",
    "    # Extracting Text from a Page:\n",
    "    page = pdf_reader.getPage(0)\n",
    "    #pdf_reader.getPage(0) gets the first page of the PDF (index 0) and assigns it to the variable page.\n",
    "\n",
    "    text = page.extractText()\n",
    "    # page.extractText() extracts the text content from the first page and stores it in the variable text.\n",
    "    #extractText() is a method in PyPDF2 that extracts text from a PDF page.\n",
    "\n",
    "print(text)"
   ]
  },
  {
   "cell_type": "markdown",
   "id": "e0381db2",
   "metadata": {},
   "source": [
    "# Main Program "
   ]
  },
  {
   "cell_type": "code",
   "execution_count": null,
   "id": "2031fb8c",
   "metadata": {},
   "outputs": [],
   "source": [
    "if__name ==\"__main__\": \n",
    "    print('check main')\n",
    "# its a preset variable where name = main \n",
    "\n",
    "# entry point for a python program "
   ]
  },
  {
   "cell_type": "markdown",
   "id": "775b801a",
   "metadata": {},
   "source": [
    "print(__name__)\n",
    "\n",
    "name value - in main python file will be main\n",
    "\n",
    "there is another piece of code in ipynb file that you would like to import as module \n",
    "\n",
    "then name will return the name of the new code not the "
   ]
  },
  {
   "cell_type": "markdown",
   "id": "edea08d5",
   "metadata": {},
   "source": [
    "to use only functions in a python file in another code without actually exceuting its main code.\n",
    "\n",
    "\n",
    "\n"
   ]
  },
  {
   "cell_type": "markdown",
   "id": "d0717886",
   "metadata": {},
   "source": [
    "# exception handling \n",
    "\n",
    "program terminates when an exception is occured"
   ]
  },
  {
   "cell_type": "code",
   "execution_count": 330,
   "id": "deabd271",
   "metadata": {},
   "outputs": [
    {
     "ename": "ZeroDivisionError",
     "evalue": "division by zero",
     "output_type": "error",
     "traceback": [
      "\u001b[0;31m---------------------------------------------------------------------------\u001b[0m",
      "\u001b[0;31mZeroDivisionError\u001b[0m                         Traceback (most recent call last)",
      "Input \u001b[0;32mIn [330]\u001b[0m, in \u001b[0;36m<cell line: 1>\u001b[0;34m()\u001b[0m\n\u001b[0;32m----> 1\u001b[0m \u001b[38;5;241;43m1\u001b[39;49m\u001b[38;5;241;43m/\u001b[39;49m\u001b[38;5;241;43m0\u001b[39;49m\n",
      "\u001b[0;31mZeroDivisionError\u001b[0m: division by zero"
     ]
    }
   ],
   "source": [
    "1/0\n",
    "\n",
    "# ZeroDivisionError   "
   ]
  },
  {
   "cell_type": "code",
   "execution_count": 331,
   "id": "60aa3652",
   "metadata": {},
   "outputs": [
    {
     "ename": "TypeError",
     "evalue": "can only concatenate str (not \"int\") to str",
     "output_type": "error",
     "traceback": [
      "\u001b[0;31m---------------------------------------------------------------------------\u001b[0m",
      "\u001b[0;31mTypeError\u001b[0m                                 Traceback (most recent call last)",
      "Input \u001b[0;32mIn [331]\u001b[0m, in \u001b[0;36m<cell line: 1>\u001b[0;34m()\u001b[0m\n\u001b[0;32m----> 1\u001b[0m \u001b[38;5;124;43m'\u001b[39;49m\u001b[38;5;124;43mabc\u001b[39;49m\u001b[38;5;124;43m'\u001b[39;49m\u001b[38;5;241;43m+\u001b[39;49m\u001b[38;5;241;43m2\u001b[39;49m\n",
      "\u001b[0;31mTypeError\u001b[0m: can only concatenate str (not \"int\") to str"
     ]
    }
   ],
   "source": [
    "'abc'+2\n",
    "\n",
    "#can only concatenate str (not \"int\") to str "
   ]
  },
  {
   "cell_type": "code",
   "execution_count": 336,
   "id": "4eee8b49",
   "metadata": {},
   "outputs": [
    {
     "name": "stdout",
     "output_type": "stream",
     "text": [
      "enter num13\n",
      "enter num20\n"
     ]
    },
    {
     "ename": "ZeroDivisionError",
     "evalue": "division by zero",
     "output_type": "error",
     "traceback": [
      "\u001b[0;31m---------------------------------------------------------------------------\u001b[0m",
      "\u001b[0;31mZeroDivisionError\u001b[0m                         Traceback (most recent call last)",
      "Input \u001b[0;32mIn [336]\u001b[0m, in \u001b[0;36m<cell line: 3>\u001b[0;34m()\u001b[0m\n\u001b[1;32m      1\u001b[0m x\u001b[38;5;241m=\u001b[39m \u001b[38;5;28minput\u001b[39m(\u001b[38;5;124m'\u001b[39m\u001b[38;5;124menter num1\u001b[39m\u001b[38;5;124m'\u001b[39m)\n\u001b[1;32m      2\u001b[0m y \u001b[38;5;241m=\u001b[39m\u001b[38;5;28minput\u001b[39m(\u001b[38;5;124m'\u001b[39m\u001b[38;5;124menter num2\u001b[39m\u001b[38;5;124m'\u001b[39m)\n\u001b[0;32m----> 3\u001b[0m z \u001b[38;5;241m=\u001b[39m \u001b[38;5;28;43mint\u001b[39;49m\u001b[43m(\u001b[49m\u001b[43mx\u001b[49m\u001b[43m)\u001b[49m\u001b[38;5;241;43m/\u001b[39;49m\u001b[38;5;28;43mint\u001b[39;49m\u001b[43m(\u001b[49m\u001b[43my\u001b[49m\u001b[43m)\u001b[49m\n\u001b[1;32m      4\u001b[0m \u001b[38;5;28mprint\u001b[39m(\u001b[38;5;124m'\u001b[39m\u001b[38;5;124mdivision is :\u001b[39m\u001b[38;5;124m'\u001b[39m,z)\n",
      "\u001b[0;31mZeroDivisionError\u001b[0m: division by zero"
     ]
    }
   ],
   "source": [
    "x= input('enter num1')\n",
    "y =input('enter num2')\n",
    "z = int(x)/int(y)\n",
    "print('division is :',z)\n",
    "\n",
    "# what happens when y is 0\n",
    "# program is terminated then \n",
    "# we need to handle the exception in such cases\n"
   ]
  },
  {
   "cell_type": "code",
   "execution_count": 342,
   "id": "ca1dbf0c",
   "metadata": {},
   "outputs": [
    {
     "name": "stdout",
     "output_type": "stream",
     "text": [
      "enter num132\n",
      "enter num20\n",
      "division by zero exception\n",
      "division is : None\n"
     ]
    }
   ],
   "source": [
    "# execute the program without crash\n",
    "\n",
    "x= input('enter num1')\n",
    "y =input('enter num2')\n",
    "try:  \n",
    "    z = int(x)/int(y)\n",
    "except Exception as e:\n",
    "    print('division by zero exception') # handle very specific exception\n",
    "    z = None\n",
    "print('division is :',z)"
   ]
  },
  {
   "cell_type": "code",
   "execution_count": 348,
   "id": "7eb4ff6d",
   "metadata": {},
   "outputs": [
    {
     "ename": "KeyboardInterrupt",
     "evalue": "Interrupted by user",
     "output_type": "error",
     "traceback": [
      "\u001b[0;31m---------------------------------------------------------------------------\u001b[0m",
      "\u001b[0;31mKeyboardInterrupt\u001b[0m                         Traceback (most recent call last)",
      "Input \u001b[0;32mIn [348]\u001b[0m, in \u001b[0;36m<cell line: 3>\u001b[0;34m()\u001b[0m\n\u001b[1;32m      1\u001b[0m \u001b[38;5;66;03m# how to specific exception\u001b[39;00m\n\u001b[0;32m----> 3\u001b[0m x\u001b[38;5;241m=\u001b[39m \u001b[38;5;28;43minput\u001b[39;49m\u001b[43m(\u001b[49m\u001b[38;5;124;43m'\u001b[39;49m\u001b[38;5;124;43menter num1\u001b[39;49m\u001b[38;5;124;43m'\u001b[39;49m\u001b[43m)\u001b[49m\n\u001b[1;32m      4\u001b[0m y \u001b[38;5;241m=\u001b[39m\u001b[38;5;28minput\u001b[39m(\u001b[38;5;124m'\u001b[39m\u001b[38;5;124menter num2\u001b[39m\u001b[38;5;124m'\u001b[39m)\n\u001b[1;32m      5\u001b[0m \u001b[38;5;28;01mtry\u001b[39;00m:  \n",
      "File \u001b[0;32m/opt/anaconda3/lib/python3.9/site-packages/ipykernel/kernelbase.py:1075\u001b[0m, in \u001b[0;36mKernel.raw_input\u001b[0;34m(self, prompt)\u001b[0m\n\u001b[1;32m   1071\u001b[0m \u001b[38;5;28;01mif\u001b[39;00m \u001b[38;5;129;01mnot\u001b[39;00m \u001b[38;5;28mself\u001b[39m\u001b[38;5;241m.\u001b[39m_allow_stdin:\n\u001b[1;32m   1072\u001b[0m     \u001b[38;5;28;01mraise\u001b[39;00m StdinNotImplementedError(\n\u001b[1;32m   1073\u001b[0m         \u001b[38;5;124m\"\u001b[39m\u001b[38;5;124mraw_input was called, but this frontend does not support input requests.\u001b[39m\u001b[38;5;124m\"\u001b[39m\n\u001b[1;32m   1074\u001b[0m     )\n\u001b[0;32m-> 1075\u001b[0m \u001b[38;5;28;01mreturn\u001b[39;00m \u001b[38;5;28;43mself\u001b[39;49m\u001b[38;5;241;43m.\u001b[39;49m\u001b[43m_input_request\u001b[49m\u001b[43m(\u001b[49m\n\u001b[1;32m   1076\u001b[0m \u001b[43m    \u001b[49m\u001b[38;5;28;43mstr\u001b[39;49m\u001b[43m(\u001b[49m\u001b[43mprompt\u001b[49m\u001b[43m)\u001b[49m\u001b[43m,\u001b[49m\n\u001b[1;32m   1077\u001b[0m \u001b[43m    \u001b[49m\u001b[38;5;28;43mself\u001b[39;49m\u001b[38;5;241;43m.\u001b[39;49m\u001b[43m_parent_ident\u001b[49m\u001b[43m[\u001b[49m\u001b[38;5;124;43m\"\u001b[39;49m\u001b[38;5;124;43mshell\u001b[39;49m\u001b[38;5;124;43m\"\u001b[39;49m\u001b[43m]\u001b[49m\u001b[43m,\u001b[49m\n\u001b[1;32m   1078\u001b[0m \u001b[43m    \u001b[49m\u001b[38;5;28;43mself\u001b[39;49m\u001b[38;5;241;43m.\u001b[39;49m\u001b[43mget_parent\u001b[49m\u001b[43m(\u001b[49m\u001b[38;5;124;43m\"\u001b[39;49m\u001b[38;5;124;43mshell\u001b[39;49m\u001b[38;5;124;43m\"\u001b[39;49m\u001b[43m)\u001b[49m\u001b[43m,\u001b[49m\n\u001b[1;32m   1079\u001b[0m \u001b[43m    \u001b[49m\u001b[43mpassword\u001b[49m\u001b[38;5;241;43m=\u001b[39;49m\u001b[38;5;28;43;01mFalse\u001b[39;49;00m\u001b[43m,\u001b[49m\n\u001b[1;32m   1080\u001b[0m \u001b[43m\u001b[49m\u001b[43m)\u001b[49m\n",
      "File \u001b[0;32m/opt/anaconda3/lib/python3.9/site-packages/ipykernel/kernelbase.py:1120\u001b[0m, in \u001b[0;36mKernel._input_request\u001b[0;34m(self, prompt, ident, parent, password)\u001b[0m\n\u001b[1;32m   1117\u001b[0m             \u001b[38;5;28;01mbreak\u001b[39;00m\n\u001b[1;32m   1118\u001b[0m \u001b[38;5;28;01mexcept\u001b[39;00m \u001b[38;5;167;01mKeyboardInterrupt\u001b[39;00m:\n\u001b[1;32m   1119\u001b[0m     \u001b[38;5;66;03m# re-raise KeyboardInterrupt, to truncate traceback\u001b[39;00m\n\u001b[0;32m-> 1120\u001b[0m     \u001b[38;5;28;01mraise\u001b[39;00m \u001b[38;5;167;01mKeyboardInterrupt\u001b[39;00m(\u001b[38;5;124m\"\u001b[39m\u001b[38;5;124mInterrupted by user\u001b[39m\u001b[38;5;124m\"\u001b[39m) \u001b[38;5;28;01mfrom\u001b[39;00m \u001b[38;5;28mNone\u001b[39m\n\u001b[1;32m   1121\u001b[0m \u001b[38;5;28;01mexcept\u001b[39;00m \u001b[38;5;167;01mException\u001b[39;00m:\n\u001b[1;32m   1122\u001b[0m     \u001b[38;5;28mself\u001b[39m\u001b[38;5;241m.\u001b[39mlog\u001b[38;5;241m.\u001b[39mwarning(\u001b[38;5;124m\"\u001b[39m\u001b[38;5;124mInvalid Message:\u001b[39m\u001b[38;5;124m\"\u001b[39m, exc_info\u001b[38;5;241m=\u001b[39m\u001b[38;5;28;01mTrue\u001b[39;00m)\n",
      "\u001b[0;31mKeyboardInterrupt\u001b[0m: Interrupted by user"
     ]
    }
   ],
   "source": [
    "# how to specific exception\n",
    "\n",
    "x= input('enter num1')\n",
    "y =input('enter num2')\n",
    "try:  \n",
    "    z = (x)/int(y)\n",
    "except ZeroDivisionError as e:\n",
    "    print('division by zero exception') # handle very specific exception\n",
    "    z = None\n",
    "print('division is :',z)\n",
    "\n"
   ]
  },
  {
   "cell_type": "code",
   "execution_count": 345,
   "id": "ca4420da",
   "metadata": {},
   "outputs": [
    {
     "name": "stdout",
     "output_type": "stream",
     "text": [
      "enter num12\n",
      "enter num221\n"
     ]
    },
    {
     "ename": "TypeError",
     "evalue": "unsupported operand type(s) for /: 'str' and 'int'",
     "output_type": "error",
     "traceback": [
      "\u001b[0;31m---------------------------------------------------------------------------\u001b[0m",
      "\u001b[0;31mTypeError\u001b[0m                                 Traceback (most recent call last)",
      "Input \u001b[0;32mIn [345]\u001b[0m, in \u001b[0;36m<cell line: 4>\u001b[0;34m()\u001b[0m\n\u001b[1;32m      1\u001b[0m x\u001b[38;5;241m=\u001b[39m \u001b[38;5;28minput\u001b[39m(\u001b[38;5;124m'\u001b[39m\u001b[38;5;124menter num1\u001b[39m\u001b[38;5;124m'\u001b[39m)\n\u001b[1;32m      2\u001b[0m y \u001b[38;5;241m=\u001b[39m\u001b[38;5;28minput\u001b[39m(\u001b[38;5;124m'\u001b[39m\u001b[38;5;124menter num2\u001b[39m\u001b[38;5;124m'\u001b[39m)\n\u001b[0;32m----> 4\u001b[0m z \u001b[38;5;241m=\u001b[39m \u001b[43m(\u001b[49m\u001b[43mx\u001b[49m\u001b[43m)\u001b[49m\u001b[38;5;241;43m/\u001b[39;49m\u001b[38;5;28;43mint\u001b[39;49m\u001b[43m(\u001b[49m\u001b[43my\u001b[49m\u001b[43m)\u001b[49m\n",
      "\u001b[0;31mTypeError\u001b[0m: unsupported operand type(s) for /: 'str' and 'int'"
     ]
    }
   ],
   "source": [
    "x= input('enter num1')\n",
    "y =input('enter num2')\n",
    "\n",
    "z = (x)/int(y)"
   ]
  },
  {
   "cell_type": "code",
   "execution_count": 347,
   "id": "c46658fb",
   "metadata": {},
   "outputs": [
    {
     "name": "stdout",
     "output_type": "stream",
     "text": [
      "enter num13\n",
      "enter num22\n",
      "unsupported operand type(s) for /: 'str' and 'int'\n",
      "division is : None\n"
     ]
    }
   ],
   "source": [
    "# how to handle multiple exceptions\n",
    "x= input('enter num1')\n",
    "y =input('enter num2')\n",
    "try:  \n",
    "    z = (x)/int(y)\n",
    "except ZeroDivisionError as e:\n",
    "    print('division by zero exception') # handle very specific exception\n",
    "    z = None\n",
    "except TypeError as e:\n",
    "    print(\"unsupported operand type(s) for /: 'str' and 'int'\")\n",
    "    z = None\n",
    "print('division is :',z)"
   ]
  },
  {
   "cell_type": "markdown",
   "id": "c901d6ec",
   "metadata": {},
   "source": [
    "# Classes and Objects in Python\n",
    "\n",
    "## Object Oriented programming\n",
    "\n"
   ]
  },
  {
   "cell_type": "markdown",
   "id": "36d64a42",
   "metadata": {},
   "source": [
    "properties and methods form a class\n",
    "\n",
    "\n",
    "Properties - Name , Gender, Occupation \n",
    "Methods - Speaks , Do work , Sleeps\n",
    "\n",
    "These are the properties and methods of a class called Human\n",
    "\n",
    "\n",
    "object - specific instance of a class \n",
    "\n",
    "eg: There are 2 humans in a class - Tom Cruise and Maira sherapova . Tom and maria are objects - thats each instance of a class is called an object\n",
    "\n",
    "values are different but the properties are same\n"
   ]
  },
  {
   "cell_type": "code",
   "execution_count": 352,
   "id": "97c1f0d7",
   "metadata": {},
   "outputs": [
    {
     "name": "stdout",
     "output_type": "stream",
     "text": [
      "he acts in movies\n",
      "Tom Cruise Says How are you ?\n",
      "He plays tennis \n",
      "Maria Sherapova Says How are you ?\n"
     ]
    }
   ],
   "source": [
    "class Human:\n",
    "    def __init__(self, n , o): # going to initialise the properties of that particular class when you create an instance\n",
    "        # self mean the class itself \n",
    "        # def__init_ - Function\n",
    "        # (self, n , o) - argumnets to the function\n",
    "    \n",
    "        self.name = n  \n",
    "        self.occupation = o \n",
    "        \n",
    "        # name and occuption are the properties of the class human \n",
    "    # property 1    \n",
    "    def do_work(self): # define methods\n",
    "        if self.occupation =='tennis player':\n",
    "            print('He plays tennis ')\n",
    "        elif self.occupation =='actor':\n",
    "            print('he acts in movies')\n",
    "            \n",
    "    # property 2  \n",
    "    def speaks(self):\n",
    "        print(self.name,'Says How are you ?')\n",
    "    \n",
    "\n",
    "# create instances \n",
    "\n",
    "tom = Human('Tom Cruise','actor')\n",
    "tom.do_work()\n",
    "tom.speaks()\n",
    "\n",
    "Maria = Human('Maria Sherapova','tennis player') # classname(n ,o )\n",
    "Maria.do_work()\n",
    "Maria.speaks()\n",
    "\n",
    "        "
   ]
  },
  {
   "cell_type": "markdown",
   "id": "1fa115b0",
   "metadata": {},
   "source": [
    "#### Create a sample class named Employee with two attributes id and name\n",
    "employee :\n",
    "    id\n",
    "    name\n",
    "object initializes id and name dynamically for every Employee object created."
   ]
  },
  {
   "cell_type": "code",
   "execution_count": 369,
   "id": "cdeee796",
   "metadata": {},
   "outputs": [
    {
     "name": "stdout",
     "output_type": "stream",
     "text": [
      "id: 1 name: rob\n"
     ]
    }
   ],
   "source": [
    "class Employee:\n",
    "    def __init__(self, id, name):\n",
    "        self.id = id\n",
    "        self.name =name\n",
    "        \n",
    "    def display(self): # dynamically assign name and id\n",
    "        print('id:',self.id , 'name:',self.name)\n",
    "        \n",
    "emp = Employee(1, 'rob') # instances \n",
    "emp.display()"
   ]
  },
  {
   "cell_type": "code",
   "execution_count": 370,
   "id": "52c1338e",
   "metadata": {},
   "outputs": [],
   "source": [
    "del emp.id # delete the property of object\n"
   ]
  },
  {
   "cell_type": "code",
   "execution_count": 371,
   "id": "a7049023",
   "metadata": {},
   "outputs": [
    {
     "name": "stdout",
     "output_type": "stream",
     "text": [
      "emp.id is not defined\n"
     ]
    }
   ],
   "source": [
    "try:\n",
    "    print(emp.id)\n",
    "except AttributeError:\n",
    "    print(\"emp.id is not defined\")"
   ]
  },
  {
   "cell_type": "code",
   "execution_count": 372,
   "id": "cacbc14f",
   "metadata": {},
   "outputs": [],
   "source": [
    "del emp"
   ]
  },
  {
   "cell_type": "code",
   "execution_count": 373,
   "id": "3466247f",
   "metadata": {},
   "outputs": [
    {
     "name": "stdout",
     "output_type": "stream",
     "text": [
      "emp is not defined\n"
     ]
    }
   ],
   "source": [
    "try:\n",
    "    emp.display()\n",
    "except NameError:\n",
    "    print(\"emp is not defined\")"
   ]
  },
  {
   "cell_type": "markdown",
   "id": "e76ba871",
   "metadata": {},
   "source": [
    "#### 1. Write a Python program to import a built-in array module and display the namespace of the said module."
   ]
  },
  {
   "cell_type": "code",
   "execution_count": 374,
   "id": "7f7ca870",
   "metadata": {},
   "outputs": [
    {
     "data": {
      "text/plain": [
       "['ArrayType',\n",
       " '__doc__',\n",
       " '__file__',\n",
       " '__loader__',\n",
       " '__name__',\n",
       " '__package__',\n",
       " '__spec__',\n",
       " '_array_reconstructor',\n",
       " 'array',\n",
       " 'typecodes']"
      ]
     },
     "execution_count": 374,
     "metadata": {},
     "output_type": "execute_result"
    }
   ],
   "source": [
    "import array\n",
    "dir(array)"
   ]
  },
  {
   "cell_type": "code",
   "execution_count": 375,
   "id": "6a219326",
   "metadata": {},
   "outputs": [
    {
     "name": "stdout",
     "output_type": "stream",
     "text": [
      "__name__\n",
      "__doc__\n",
      "__package__\n",
      "__loader__\n",
      "__spec__\n",
      "_array_reconstructor\n",
      "__file__\n",
      "ArrayType\n",
      "array\n",
      "typecodes\n"
     ]
    }
   ],
   "source": [
    "for name in array.__dict__:\n",
    "    print(name)"
   ]
  },
  {
   "cell_type": "markdown",
   "id": "5424bba8",
   "metadata": {},
   "source": [
    "#### 2.Write a Python program to create a class and display the namespace of that class."
   ]
  },
  {
   "cell_type": "code",
   "execution_count": 376,
   "id": "94a0eb94",
   "metadata": {},
   "outputs": [
    {
     "name": "stdout",
     "output_type": "stream",
     "text": [
      "['__class__', '__delattr__', '__dict__', '__dir__', '__doc__', '__eq__', '__format__', '__ge__', '__getattribute__', '__gt__', '__hash__', '__init__', '__init_subclass__', '__le__', '__lt__', '__module__', '__ne__', '__new__', '__reduce__', '__reduce_ex__', '__repr__', '__setattr__', '__sizeof__', '__str__', '__subclasshook__', '__weakref__', 'dispaly']\n"
     ]
    }
   ],
   "source": [
    "class classcreate:\n",
    "    def __init__ (self, instance_var):\n",
    "        self.instance_var = instance_var\n",
    "    \n",
    "    def dispaly():\n",
    "        print(instance_var)\n",
    "        \n",
    "print(dir(classcreate))"
   ]
  },
  {
   "cell_type": "code",
   "execution_count": 377,
   "id": "3ba5458f",
   "metadata": {},
   "outputs": [
    {
     "name": "stdout",
     "output_type": "stream",
     "text": [
      "['__class__', '__delattr__', '__dict__', '__dir__', '__doc__', '__eq__', '__format__', '__ge__', '__getattribute__', '__gt__', '__hash__', '__init__', '__init_subclass__', '__le__', '__lt__', '__module__', '__ne__', '__new__', '__reduce__', '__reduce_ex__', '__repr__', '__setattr__', '__sizeof__', '__str__', '__subclasshook__', '__weakref__', 'class_variable', 'display_info']\n"
     ]
    }
   ],
   "source": [
    "class MyClass:\n",
    "    \"\"\"A simple class for demonstration purposes.\"\"\"\n",
    "    \n",
    "    class_variable = \"I am a class variable\"\n",
    "    \n",
    "    def __init__(self, instance_variable):\n",
    "        self.instance_variable = instance_variable\n",
    "\n",
    "    def display_info(self):\n",
    "        print(\"Instance variable:\", self.instance_variable)\n",
    "        print(\"Class variable:\", MyClass.class_variable)\n",
    "\n",
    "# Display the namespace of the 'MyClass' class\n",
    "print(dir(MyClass))\n"
   ]
  },
  {
   "cell_type": "code",
   "execution_count": 378,
   "id": "11970d5e",
   "metadata": {},
   "outputs": [
    {
     "name": "stdout",
     "output_type": "stream",
     "text": [
      "__module__\n",
      "sub_sets\n",
      "subsetsRecur\n",
      "__dict__\n",
      "__weakref__\n",
      "__doc__\n"
     ]
    }
   ],
   "source": [
    "class py_solution:\n",
    "    def sub_sets(self, sset):\n",
    "        return self.subsetsRecur([], sorted(sset))    \n",
    "    def subsetsRecur(self, current, sset):\n",
    "        if sset:\n",
    "            return self.subsetsRecur(current, sset[1:]) + self.subsetsRecur(current + [sset[0]], sset[1:])\n",
    "        return [current]\n",
    "for name in py_solution.__dict__:\n",
    "    print(name)\n"
   ]
  },
  {
   "cell_type": "markdown",
   "id": "9096c7fc",
   "metadata": {},
   "source": [
    "#### some more class examples\n",
    "\n"
   ]
  },
  {
   "cell_type": "markdown",
   "id": "6ab50a6f",
   "metadata": {},
   "source": [
    "#### Class and Object Creation:\n",
    "\n",
    "Create a class named Car with attributes make, model, and year. \n",
    "Include a method display_info that prints information about the car."
   ]
  },
  {
   "cell_type": "code",
   "execution_count": 391,
   "id": "1db4ad22",
   "metadata": {},
   "outputs": [
    {
     "name": "stdout",
     "output_type": "stream",
     "text": [
      "make hatchback model cx5 year 2016\n",
      "make crossover model cbc year 2020\n"
     ]
    }
   ],
   "source": [
    "class car:\n",
    "    def __init__ (self , make , model , year):\n",
    "        self.make = make\n",
    "        self.model = model\n",
    "        self.year = year\n",
    "        self.owner = None\n",
    "    \n",
    "    def display_info(self):\n",
    "        print('make',self.make ,'model', self.model ,'year', self.year)\n",
    "        \n",
    "swift = car('hatchback','cx5',2016)\n",
    "mazda = car('crossover', 'cbc',2020)\n",
    "swift.display_info()\n",
    "mazda.display_info()"
   ]
  },
  {
   "cell_type": "markdown",
   "id": "1d3d68c3",
   "metadata": {},
   "source": [
    "#### Method with Parameters:\n",
    "\n",
    "Modify the display_info method to take an additional parameter for the owner's name. Display the owner's name along with other car information."
   ]
  },
  {
   "cell_type": "code",
   "execution_count": 392,
   "id": "aa7e5f1b",
   "metadata": {},
   "outputs": [
    {
     "ename": "AttributeError",
     "evalue": "'car' object has no attribute 'set_owner'",
     "output_type": "error",
     "traceback": [
      "\u001b[0;31m---------------------------------------------------------------------------\u001b[0m",
      "\u001b[0;31mAttributeError\u001b[0m                            Traceback (most recent call last)",
      "Input \u001b[0;32mIn [392]\u001b[0m, in \u001b[0;36m<cell line: 1>\u001b[0;34m()\u001b[0m\n\u001b[0;32m----> 1\u001b[0m \u001b[43mswift\u001b[49m\u001b[38;5;241;43m.\u001b[39;49m\u001b[43mset_owner\u001b[49m(\u001b[38;5;124m'\u001b[39m\u001b[38;5;124mJohn Doe\u001b[39m\u001b[38;5;124m'\u001b[39m)\n\u001b[1;32m      2\u001b[0m mazda\u001b[38;5;241m.\u001b[39mset_owner(\u001b[38;5;124m'\u001b[39m\u001b[38;5;124mAlice Smith\u001b[39m\u001b[38;5;124m'\u001b[39m)\n",
      "\u001b[0;31mAttributeError\u001b[0m: 'car' object has no attribute 'set_owner'"
     ]
    }
   ],
   "source": [
    "swift.set_owner('John Doe')\n",
    "mazda.set_owner('Alice Smith')\n"
   ]
  },
  {
   "cell_type": "code",
   "execution_count": 389,
   "id": "e10a67ad",
   "metadata": {},
   "outputs": [
    {
     "name": "stdout",
     "output_type": "stream",
     "text": [
      "make hatchback model cx5 year 2016\n"
     ]
    }
   ],
   "source": [
    "swift.display_info()\n"
   ]
  },
  {
   "cell_type": "code",
   "execution_count": 393,
   "id": "23410a4a",
   "metadata": {},
   "outputs": [
    {
     "name": "stdout",
     "output_type": "stream",
     "text": [
      "Make: Suzuki, Model: Swift, Year: 2016, Owner: John Doe\n",
      "Make: Mazda, Model: CX-5, Year: 2020, Owner: Alice Smith\n"
     ]
    }
   ],
   "source": [
    "class Car:\n",
    "    def __init__(self, make, model, year):\n",
    "        self.make = make\n",
    "        self.model = model\n",
    "        self.year = year\n",
    "        self.owner = None  # Default owner is set to None\n",
    "    \n",
    "    def set_owner(self, owner_name):\n",
    "        self.owner = owner_name\n",
    "    \n",
    "    def display_info(self):\n",
    "        owner_info = f', Owner: {self.owner}' if self.owner else ''\n",
    "        print(f'Make: {self.make}, Model: {self.model}, Year: {self.year}{owner_info}')\n",
    "\n",
    "# Example usage:\n",
    "swift = Car('Suzuki', 'Swift', 2016)\n",
    "mazda = Car('Mazda', 'CX-5', 2020)\n",
    "\n",
    "swift.set_owner('John Doe')\n",
    "mazda.set_owner('Alice Smith')\n",
    "\n",
    "swift.display_info()\n",
    "mazda.display_info()\n",
    "\n"
   ]
  },
  {
   "cell_type": "markdown",
   "id": "ac4ac1d8",
   "metadata": {},
   "source": [
    "# Inheritance\n",
    "\n",
    "same shared properties - derived sub class from class\n",
    "\n",
    "like car and motorcylces are 2 subclasses of a class vehicles. They share the same properties"
   ]
  },
  {
   "cell_type": "code",
   "execution_count": 400,
   "id": "6b4b51ee",
   "metadata": {},
   "outputs": [
    {
     "name": "stdout",
     "output_type": "stream",
     "text": [
      "im a car\n",
      "the general use: Transportation\n",
      "commute to work , vacation with family\n",
      "im a motor cycle\n",
      "the general use: Transportation\n",
      "road trip and racing\n"
     ]
    }
   ],
   "source": [
    "class vehicle:\n",
    "    def general_usage(self): # method\n",
    "        print('the general use: Transportation')\n",
    "\n",
    "# 1 sub classes\n",
    "class car(vehicle):\n",
    "    def __init__(self): # initialise the properties of a class\n",
    "        print('im a car')\n",
    "        self.wheels =4\n",
    "        self.has_roof = True\n",
    "    def specifc_usage(self):\n",
    "        self.general_usage() # self if an object of car class and can be used to call the parent method\n",
    "        print('commute to work , vacation with family')\n",
    "        \n",
    "# 2 sub class\n",
    "\n",
    "class motor_cycle(vehicle):\n",
    "    def __init__(self): # initialise the properties of a class\n",
    "        print('im a motor cycle')\n",
    "        self.wheels =2\n",
    "        self.has_roof = False\n",
    "    def specifc_usage(self):\n",
    "        self.general_usage() \n",
    "        print('road trip and racing')\n",
    "        \n",
    "# create objects to realise the actual benifits of inheritance\n",
    "\n",
    "\n",
    "# car class does not have the general_usage method yet we can call them as its from the parent class\n",
    "\n",
    "c= car()  \n",
    "#c.general_usage() # parent method\n",
    "c.specifc_usage() # child methods\n",
    "\n",
    "# c is obeject of derived class\n",
    "# car() - derived class\n",
    "\n",
    "\n",
    "m = motor_cycle()\n",
    "#m.general_usage() # parent method\n",
    "m.specifc_usage() # child methods\n",
    "      \n",
    "# m is obeject of derived class\n",
    "# motor_cycle() - derived class\n",
    "\n",
    "\n",
    "\n"
   ]
  },
  {
   "cell_type": "markdown",
   "id": "b8612d35",
   "metadata": {},
   "source": [
    "### benifts of Inheritance"
   ]
  },
  {
   "cell_type": "markdown",
   "id": "a2a9a46f",
   "metadata": {},
   "source": [
    "1.reuse code - \n",
    "\n",
    "2.extentability - extend the class to derive new classes\n",
    "\n",
    "3.readability - provide a nice structure to the program"
   ]
  },
  {
   "cell_type": "markdown",
   "id": "3ddb067e",
   "metadata": {},
   "source": [
    "#### isinstance"
   ]
  },
  {
   "cell_type": "code",
   "execution_count": 406,
   "id": "c33636fc",
   "metadata": {},
   "outputs": [
    {
     "name": "stdout",
     "output_type": "stream",
     "text": [
      "im a car\n",
      "im a motor cycle\n",
      "True\n",
      "True\n",
      "False\n"
     ]
    }
   ],
   "source": [
    "class vehicle:\n",
    "    def general_usage(self): # method\n",
    "        print('the general use: Transportation')\n",
    "\n",
    "# 1 sub classes\n",
    "class car(vehicle):\n",
    "    def __init__(self): # initialise the properties of a class\n",
    "        print('im a car')\n",
    "        self.wheels =4\n",
    "        self.has_roof = True\n",
    "    def specifc_usage(self):\n",
    "        self.general_usage() # self if an object of car class and can be used to call the parent method\n",
    "        print('commute to work , vacation with family')\n",
    "        \n",
    "# 2 sub class\n",
    "\n",
    "class motor_cycle(vehicle):\n",
    "    def __init__(self): # initialise the properties of a class\n",
    "        print('im a motor cycle')\n",
    "        self.wheels =2\n",
    "        self.has_roof = False\n",
    "    def specifc_usage(self):\n",
    "        self.general_usage() \n",
    "        print('road trip and racing')\n",
    "              \n",
    "\n",
    "\n",
    "c= car()  # car instance\n",
    "m = motor_cycle() # motor_cycle instance\n",
    "              \n",
    "print(isinstance(c,car)) # is instance is a bulit in function - tells if an obejct is an instacne of a specift class or not\n",
    "\n",
    "print(issubclass(car,vehicle)) # check if its a subclass\n",
    "\n",
    "print(issubclass(motor_cycle,car))              \n",
    "              "
   ]
  },
  {
   "cell_type": "markdown",
   "id": "ca2f8d63",
   "metadata": {},
   "source": [
    "#### Multiple Inheritance"
   ]
  },
  {
   "cell_type": "code",
   "execution_count": 411,
   "id": "88a83d8b",
   "metadata": {},
   "outputs": [
    {
     "name": "stdout",
     "output_type": "stream",
     "text": [
      "i enjoy gardening\n",
      "i love cooking\n",
      "i enjoy sports\n"
     ]
    }
   ],
   "source": [
    "class father():\n",
    "    def gardening(self):\n",
    "        print('i enjoy gardening')\n",
    "        \n",
    "class mother():\n",
    "    def cooking(self):\n",
    "        print('i love cooking')\n",
    "        \n",
    "# inherit a class from 2 classes\n",
    "\n",
    "class child(father ,mother):\n",
    "    def sports(self):\n",
    "        print('i enjoy sports')\n",
    "        \n",
    "c= child()\n",
    "c.gardening() # inherit methods from class1\n",
    "c.cooking() # inherit methods from class2\n",
    "c.sports()\n",
    "\n"
   ]
  },
  {
   "cell_type": "code",
   "execution_count": 418,
   "id": "be2f2d39",
   "metadata": {},
   "outputs": [
    {
     "name": "stdout",
     "output_type": "stream",
     "text": [
      "gardening,programming\n",
      "cooking, art\n",
      "sports\n"
     ]
    }
   ],
   "source": [
    "# when the methods in subclasses have same names or type , use classname.method()\n",
    "class father():\n",
    "    def skills(self):\n",
    "        print('gardening,programming')\n",
    "        \n",
    "class mother():\n",
    "    def skills(self):\n",
    "        print('cooking, art')\n",
    "        \n",
    "# inherit a class from 2 classes\n",
    "\n",
    "class child(father ,mother):\n",
    "    def skills(self):\n",
    "        father.skills(self)\n",
    "        mother.skills(self)\n",
    "        print('sports')\n",
    "        \n",
    "c= child()\n",
    "c.skills()\n"
   ]
  },
  {
   "cell_type": "markdown",
   "id": "d8c9bbc9",
   "metadata": {},
   "source": [
    "# Exceptions part 2 \n",
    "\n",
    "standard exception\n",
    "\n",
    "user defined exception\n",
    "\n"
   ]
  },
  {
   "cell_type": "code",
   "execution_count": 420,
   "id": "17ee33be",
   "metadata": {},
   "outputs": [
    {
     "name": "stdout",
     "output_type": "stream",
     "text": [
      "its a memory error\n",
      "its a memory error\n"
     ]
    }
   ],
   "source": [
    "# general exception\n",
    "try:\n",
    "    raise Exception ('its a memory error')\n",
    "except Exception as e:\n",
    "    print(e)\n",
    "\n",
    "# specific standrard exception\n",
    "try:\n",
    "    raise MemoryError('its a memory error')\n",
    "except MemoryError as e:\n",
    "    print(e)\n",
    "    \n",
    "# user defined exception\n",
    "\n",
    "#exception are instance/object of classes"
   ]
  },
  {
   "cell_type": "code",
   "execution_count": null,
   "id": "b8682818",
   "metadata": {},
   "outputs": [],
   "source": [
    "class Accident(Exception): # Accident is derived from Exception class\n",
    "    \n",
    "    def __init__(self, msg):\n",
    "        self.msg = msg\n"
   ]
  },
  {
   "cell_type": "markdown",
   "id": "f128f4c7",
   "metadata": {},
   "source": [
    "# Iterators "
   ]
  },
  {
   "cell_type": "code",
   "execution_count": 421,
   "id": "668f1125",
   "metadata": {},
   "outputs": [
    {
     "name": "stdout",
     "output_type": "stream",
     "text": [
      "hey\n",
      "bro\n",
      "you\n",
      "are\n"
     ]
    }
   ],
   "source": [
    "a =['hey','bro','you','are']\n",
    "\n",
    "for i in a:  # '__iter__',\n",
    "    print(i)"
   ]
  },
  {
   "cell_type": "code",
   "execution_count": 422,
   "id": "f0f9ab4d",
   "metadata": {},
   "outputs": [
    {
     "data": {
      "text/plain": [
       "['__add__',\n",
       " '__class__',\n",
       " '__class_getitem__',\n",
       " '__contains__',\n",
       " '__delattr__',\n",
       " '__delitem__',\n",
       " '__dir__',\n",
       " '__doc__',\n",
       " '__eq__',\n",
       " '__format__',\n",
       " '__ge__',\n",
       " '__getattribute__',\n",
       " '__getitem__',\n",
       " '__gt__',\n",
       " '__hash__',\n",
       " '__iadd__',\n",
       " '__imul__',\n",
       " '__init__',\n",
       " '__init_subclass__',\n",
       " '__iter__',\n",
       " '__le__',\n",
       " '__len__',\n",
       " '__lt__',\n",
       " '__mul__',\n",
       " '__ne__',\n",
       " '__new__',\n",
       " '__reduce__',\n",
       " '__reduce_ex__',\n",
       " '__repr__',\n",
       " '__reversed__',\n",
       " '__rmul__',\n",
       " '__setattr__',\n",
       " '__setitem__',\n",
       " '__sizeof__',\n",
       " '__str__',\n",
       " '__subclasshook__',\n",
       " 'append',\n",
       " 'clear',\n",
       " 'copy',\n",
       " 'count',\n",
       " 'extend',\n",
       " 'index',\n",
       " 'insert',\n",
       " 'pop',\n",
       " 'remove',\n",
       " 'reverse',\n",
       " 'sort']"
      ]
     },
     "execution_count": 422,
     "metadata": {},
     "output_type": "execute_result"
    }
   ],
   "source": [
    "dir(a)"
   ]
  },
  {
   "cell_type": "code",
   "execution_count": 424,
   "id": "64739d7f",
   "metadata": {},
   "outputs": [
    {
     "data": {
      "text/plain": [
       "<list_iterator at 0x7f9b3b973250>"
      ]
     },
     "execution_count": 424,
     "metadata": {},
     "output_type": "execute_result"
    }
   ],
   "source": [
    "itr = iter(a)\n",
    "itr"
   ]
  },
  {
   "cell_type": "code",
   "execution_count": 429,
   "id": "0f9d7792",
   "metadata": {},
   "outputs": [
    {
     "ename": "StopIteration",
     "evalue": "",
     "output_type": "error",
     "traceback": [
      "\u001b[0;31m---------------------------------------------------------------------------\u001b[0m",
      "\u001b[0;31mStopIteration\u001b[0m                             Traceback (most recent call last)",
      "Input \u001b[0;32mIn [429]\u001b[0m, in \u001b[0;36m<cell line: 1>\u001b[0;34m()\u001b[0m\n\u001b[0;32m----> 1\u001b[0m \u001b[38;5;28;43mnext\u001b[39;49m\u001b[43m(\u001b[49m\u001b[43mitr\u001b[49m\u001b[43m)\u001b[49m\n",
      "\u001b[0;31mStopIteration\u001b[0m: "
     ]
    }
   ],
   "source": [
    "next(itr)"
   ]
  },
  {
   "cell_type": "markdown",
   "id": "ef242f74",
   "metadata": {},
   "source": [
    "### reverse iterator"
   ]
  },
  {
   "cell_type": "code",
   "execution_count": 434,
   "id": "a109319b",
   "metadata": {},
   "outputs": [
    {
     "data": {
      "text/plain": [
       "'are'"
      ]
     },
     "execution_count": 434,
     "metadata": {},
     "output_type": "execute_result"
    }
   ],
   "source": [
    "itr = reversed(a)\n",
    "\n",
    "next(itr)"
   ]
  },
  {
   "cell_type": "code",
   "execution_count": 438,
   "id": "32d483ea",
   "metadata": {},
   "outputs": [
    {
     "ename": "StopIteration",
     "evalue": "",
     "output_type": "error",
     "traceback": [
      "\u001b[0;31m---------------------------------------------------------------------------\u001b[0m",
      "\u001b[0;31mStopIteration\u001b[0m                             Traceback (most recent call last)",
      "Input \u001b[0;32mIn [438]\u001b[0m, in \u001b[0;36m<cell line: 1>\u001b[0;34m()\u001b[0m\n\u001b[0;32m----> 1\u001b[0m \u001b[38;5;28;43mnext\u001b[39;49m\u001b[43m(\u001b[49m\u001b[43mitr\u001b[49m\u001b[43m)\u001b[49m\n",
      "\u001b[0;31mStopIteration\u001b[0m: "
     ]
    }
   ],
   "source": [
    "next(itr)\n"
   ]
  },
  {
   "cell_type": "code",
   "execution_count": 446,
   "id": "ec6b7508",
   "metadata": {},
   "outputs": [
    {
     "name": "stdout",
     "output_type": "stream",
     "text": [
      "hbo\n",
      "mtv\n",
      "rtv\n"
     ]
    },
    {
     "ename": "StopIteration",
     "evalue": "",
     "output_type": "error",
     "traceback": [
      "\u001b[0;31m---------------------------------------------------------------------------\u001b[0m",
      "\u001b[0;31mStopIteration\u001b[0m                             Traceback (most recent call last)",
      "Input \u001b[0;32mIn [446]\u001b[0m, in \u001b[0;36m<cell line: 20>\u001b[0;34m()\u001b[0m\n\u001b[1;32m     18\u001b[0m \u001b[38;5;28mprint\u001b[39m(\u001b[38;5;28mnext\u001b[39m(itr))\n\u001b[1;32m     19\u001b[0m \u001b[38;5;28mprint\u001b[39m(\u001b[38;5;28mnext\u001b[39m(itr))\n\u001b[0;32m---> 20\u001b[0m \u001b[38;5;28mprint\u001b[39m(\u001b[38;5;28;43mnext\u001b[39;49m\u001b[43m(\u001b[49m\u001b[43mitr\u001b[49m\u001b[43m)\u001b[49m)\n\u001b[1;32m     21\u001b[0m \u001b[38;5;28mprint\u001b[39m(\u001b[38;5;28mnext\u001b[39m(itr))\n\u001b[1;32m     22\u001b[0m \u001b[38;5;28mprint\u001b[39m(\u001b[38;5;28mnext\u001b[39m(itr))\n",
      "Input \u001b[0;32mIn [446]\u001b[0m, in \u001b[0;36mremote_control.__next__\u001b[0;34m(self)\u001b[0m\n\u001b[1;32m     10\u001b[0m \u001b[38;5;28mself\u001b[39m\u001b[38;5;241m.\u001b[39mindex \u001b[38;5;241m+\u001b[39m\u001b[38;5;241m=\u001b[39m \u001b[38;5;241m1\u001b[39m\n\u001b[1;32m     11\u001b[0m \u001b[38;5;28;01mif\u001b[39;00m \u001b[38;5;28mself\u001b[39m\u001b[38;5;241m.\u001b[39mindex \u001b[38;5;241m==\u001b[39m\u001b[38;5;28mlen\u001b[39m(\u001b[38;5;28mself\u001b[39m\u001b[38;5;241m.\u001b[39mchannels):\u001b[38;5;66;03m# end of last element in the list then stop iteration\u001b[39;00m\n\u001b[0;32m---> 12\u001b[0m     \u001b[38;5;28;01mraise\u001b[39;00m \u001b[38;5;167;01mStopIteration\u001b[39;00m\n\u001b[1;32m     13\u001b[0m \u001b[38;5;28;01mreturn\u001b[39;00m \u001b[38;5;28mself\u001b[39m\u001b[38;5;241m.\u001b[39mchannels[\u001b[38;5;28mself\u001b[39m\u001b[38;5;241m.\u001b[39mindex]\n",
      "\u001b[0;31mStopIteration\u001b[0m: "
     ]
    }
   ],
   "source": [
    "class remote_control():\n",
    "    def __init__(self): \n",
    "        self.channels =['hbo','mtv','rtv']\n",
    "        self.index = -1 # tv is off no channel\n",
    "        \n",
    "    def __iter__(self):\n",
    "        return self\n",
    "    \n",
    "    def __next__(self):\n",
    "        self.index += 1\n",
    "        if self.index ==len(self.channels):# end of last element in the list then stop iteration\n",
    "            raise StopIteration\n",
    "        return self.channels[self.index]\n",
    "\n",
    "r = remote_control() # create an instance of the class\n",
    "itr = iter(r)  # iter = __iter__\n",
    "print(next(itr)) # next =__next__\n",
    "print(next(itr))\n",
    "print(next(itr))\n",
    "print(next(itr))\n",
    "print(next(itr))\n",
    "print(next(itr))"
   ]
  },
  {
   "cell_type": "markdown",
   "id": "699e5ceb",
   "metadata": {},
   "source": [
    "# Generators "
   ]
  },
  {
   "cell_type": "code",
   "execution_count": 449,
   "id": "0760e74f",
   "metadata": {},
   "outputs": [
    {
     "data": {
      "text/plain": [
       "<generator object remote_control_next at 0x7f9b3ba01890>"
      ]
     },
     "execution_count": 449,
     "metadata": {},
     "output_type": "execute_result"
    }
   ],
   "source": [
    "def remote_control_next():\n",
    "    yield \"cnn\" # similar to return but not return \n",
    "    yield 'hbo' # function returns and detroys all local variables of the function\n",
    "    yield 'ecv' # yeild maintains the state of the function\n",
    "    \n",
    "itr = remote_control_next()\n",
    "itr"
   ]
  },
  {
   "cell_type": "code",
   "execution_count": 452,
   "id": "6381432d",
   "metadata": {},
   "outputs": [
    {
     "data": {
      "text/plain": [
       "'ecv'"
      ]
     },
     "execution_count": 452,
     "metadata": {},
     "output_type": "execute_result"
    }
   ],
   "source": [
    "next(itr) # usefull if you have a  long list of values and you want to return them one by one - takes short memory as it returns only one value from the function\n"
   ]
  },
  {
   "cell_type": "code",
   "execution_count": 453,
   "id": "7f3bf0b1",
   "metadata": {},
   "outputs": [
    {
     "name": "stdout",
     "output_type": "stream",
     "text": [
      "cnn\n",
      "hbo\n",
      "ecv\n"
     ]
    }
   ],
   "source": [
    "for c in remote_control_next(): # returns all the values at once which needs much memory and we might not need all at once - \n",
    "    print(c)"
   ]
  },
  {
   "cell_type": "markdown",
   "id": "9cb13b14",
   "metadata": {},
   "source": [
    "#### fibonocci sequence using a generator\n",
    "\n",
    "0, 1, 1, 2,3, 5, 8, 13....."
   ]
  },
  {
   "cell_type": "code",
   "execution_count": 484,
   "id": "be7de08e",
   "metadata": {},
   "outputs": [
    {
     "name": "stdout",
     "output_type": "stream",
     "text": [
      "0\n",
      "1\n",
      "1\n",
      "2\n",
      "3\n",
      "5\n",
      "8\n",
      "13\n",
      "21\n",
      "34\n"
     ]
    }
   ],
   "source": [
    "def fib():\n",
    "    a,b =0, 1 # first 2 numbers of fib series\n",
    "    while True:\n",
    "        yield a # after returning a , it will execute the next statment when it comes back\n",
    "        a, b = b, a+b\n",
    "        \n",
    "for f in fib():\n",
    "    if f >50:\n",
    "        break\n",
    "    print (f)\n",
    "    "
   ]
  },
  {
   "cell_type": "markdown",
   "id": "ae037e72",
   "metadata": {},
   "source": [
    "# List Set Dictionary Comprehension"
   ]
  },
  {
   "cell_type": "markdown",
   "id": "f032a0ed",
   "metadata": {},
   "source": [
    "#### list comprehensions"
   ]
  },
  {
   "cell_type": "code",
   "execution_count": 490,
   "id": "1835774f",
   "metadata": {},
   "outputs": [
    {
     "data": {
      "text/plain": [
       "[4, 6, 6, 6, 6]"
      ]
     },
     "execution_count": 490,
     "metadata": {},
     "output_type": "execute_result"
    }
   ],
   "source": [
    "numbers = [1, 4,6,23,6,6,5,6]\n",
    "even=[]\n",
    "\n",
    "for i in numbers:\n",
    "    if i% 2 ==0 :\n",
    "        even.append(i)\n",
    "even\n",
    "    "
   ]
  },
  {
   "cell_type": "code",
   "execution_count": 492,
   "id": "91a148c5",
   "metadata": {},
   "outputs": [
    {
     "data": {
      "text/plain": [
       "[4, 6, 6, 6, 6]"
      ]
     },
     "execution_count": 492,
     "metadata": {},
     "output_type": "execute_result"
    }
   ],
   "source": [
    "even = [i for i in numbers if i % 2 ==0 ]\n",
    "even"
   ]
  },
  {
   "cell_type": "code",
   "execution_count": 494,
   "id": "0e04e525",
   "metadata": {},
   "outputs": [
    {
     "data": {
      "text/plain": [
       "[2, 8, 12, 46, 12, 12, 10, 12]"
      ]
     },
     "execution_count": 494,
     "metadata": {},
     "output_type": "execute_result"
    }
   ],
   "source": [
    "sqrt = [i *2 for i in numbers]\n",
    "sqrt"
   ]
  },
  {
   "cell_type": "markdown",
   "id": "493cd210",
   "metadata": {},
   "source": [
    "#### sets  - unordered , no duplicates"
   ]
  },
  {
   "cell_type": "code",
   "execution_count": 498,
   "id": "1f110894",
   "metadata": {},
   "outputs": [
    {
     "data": {
      "text/plain": [
       "{1, 4, 5, 6, 23}"
      ]
     },
     "execution_count": 498,
     "metadata": {},
     "output_type": "execute_result"
    }
   ],
   "source": [
    "s = set(numbers)  # removes duplicates and returns unique numbers\n",
    "s"
   ]
  },
  {
   "cell_type": "code",
   "execution_count": 500,
   "id": "df5f0646",
   "metadata": {},
   "outputs": [
    {
     "data": {
      "text/plain": [
       "{4, 6}"
      ]
     },
     "execution_count": 500,
     "metadata": {},
     "output_type": "execute_result"
    }
   ],
   "source": [
    "even = {i for i in s if i % 2 ==0 }\n",
    "even"
   ]
  },
  {
   "cell_type": "markdown",
   "id": "4bff085e",
   "metadata": {},
   "source": [
    "#### dictionary comprehensions"
   ]
  },
  {
   "cell_type": "code",
   "execution_count": 506,
   "id": "b29db30a",
   "metadata": {},
   "outputs": [
    {
     "name": "stdout",
     "output_type": "stream",
     "text": [
      "('mumbai', 'India')\n",
      "('newyork', 'usa')\n",
      "('paris', 'france')\n"
     ]
    },
    {
     "data": {
      "text/plain": [
       "{'mumbai': 'India', 'newyork': 'usa', 'paris': 'france'}"
      ]
     },
     "execution_count": 506,
     "metadata": {},
     "output_type": "execute_result"
    }
   ],
   "source": [
    "cities =['mumbai','newyork','paris']\n",
    "countries = ['India','usa','france']\n",
    "\n",
    "# create a dictionary with key = cities and value = country\n",
    "\n",
    "z = zip(cities,countries)\n",
    "\n",
    "for a in z:\n",
    "    print(a)\n",
    "    \n",
    "d= {city:country for city,country in zip(cities,countries)}\n",
    "d"
   ]
  },
  {
   "cell_type": "code",
   "execution_count": null,
   "id": "0a384730",
   "metadata": {},
   "outputs": [],
   "source": []
  },
  {
   "cell_type": "code",
   "execution_count": null,
   "id": "698fbc8e",
   "metadata": {},
   "outputs": [],
   "source": []
  },
  {
   "cell_type": "code",
   "execution_count": null,
   "id": "8a333b3f",
   "metadata": {},
   "outputs": [],
   "source": []
  },
  {
   "cell_type": "code",
   "execution_count": null,
   "id": "8a74e562",
   "metadata": {},
   "outputs": [],
   "source": []
  }
 ],
 "metadata": {
  "kernelspec": {
   "display_name": "Python 3 (ipykernel)",
   "language": "python",
   "name": "python3"
  },
  "language_info": {
   "codemirror_mode": {
    "name": "ipython",
    "version": 3
   },
   "file_extension": ".py",
   "mimetype": "text/x-python",
   "name": "python",
   "nbconvert_exporter": "python",
   "pygments_lexer": "ipython3",
   "version": "3.9.12"
  }
 },
 "nbformat": 4,
 "nbformat_minor": 5
}
